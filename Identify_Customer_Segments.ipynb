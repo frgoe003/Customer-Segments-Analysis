{
 "cells": [
  {
   "cell_type": "markdown",
   "metadata": {},
   "source": [
    "# Project: Identify Customer Segments\n",
    "\n",
    "In this project, you will apply unsupervised learning techniques to identify segments of the population that form the core customer base for a mail-order sales company in Germany. These segments can then be used to direct marketing campaigns towards audiences that will have the highest expected rate of returns. The data that you will use has been provided by our partners at Bertelsmann Arvato Analytics, and represents a real-life data science task.\n",
    "\n",
    "This notebook will help you complete this task by providing a framework within which you will perform your analysis steps. In each step of the project, you will see some text describing the subtask that you will perform, followed by one or more code cells for you to complete your work. **Feel free to add additional code and markdown cells as you go along so that you can explore everything in precise chunks.** The code cells provided in the base template will outline only the major tasks, and will usually not be enough to cover all of the minor tasks that comprise it.\n",
    "\n",
    "It should be noted that while there will be precise guidelines on how you should handle certain tasks in the project, there will also be places where an exact specification is not provided. **There will be times in the project where you will need to make and justify your own decisions on how to treat the data.** These are places where there may not be only one way to handle the data. In real-life tasks, there may be many valid ways to approach an analysis task. One of the most important things you can do is clearly document your approach so that other scientists can understand the decisions you've made.\n",
    "\n",
    "At the end of most sections, there will be a Markdown cell labeled **Discussion**. In these cells, you will report your findings for the completed section, as well as document the decisions that you made in your approach to each subtask. **Your project will be evaluated not just on the code used to complete the tasks outlined, but also your communication about your observations and conclusions at each stage.**"
   ]
  },
  {
   "cell_type": "code",
   "execution_count": 145,
   "metadata": {},
   "outputs": [
    {
     "data": {
      "text/plain": [
       "'\\nImport note: The classroom currently uses sklearn version 0.19.\\nIf you need to use an imputer, it is available in sklearn.preprocessing.Imputer,\\ninstead of sklearn.impute as in newer versions of sklearn.\\n'"
      ]
     },
     "execution_count": 145,
     "metadata": {},
     "output_type": "execute_result"
    }
   ],
   "source": [
    "# import libraries here; add more as necessary\n",
    "import numpy as np\n",
    "import pandas as pd\n",
    "import matplotlib.pyplot as plt\n",
    "import seaborn as sns\n",
    "\n",
    "# magic word for producing visualizations in notebook\n",
    "%matplotlib inline\n",
    "\n",
    "'''\n",
    "Import note: The classroom currently uses sklearn version 0.19.\n",
    "If you need to use an imputer, it is available in sklearn.preprocessing.Imputer,\n",
    "instead of sklearn.impute as in newer versions of sklearn.\n",
    "'''"
   ]
  },
  {
   "cell_type": "markdown",
   "metadata": {},
   "source": [
    "### Step 0: Load the Data\n",
    "\n",
    "There are four files associated with this project (not including this one):\n",
    "\n",
    "- `Udacity_AZDIAS_Subset.csv`: Demographics data for the general population of Germany; 891211 persons (rows) x 85 features (columns).\n",
    "- `Udacity_CUSTOMERS_Subset.csv`: Demographics data for customers of a mail-order company; 191652 persons (rows) x 85 features (columns).\n",
    "- `Data_Dictionary.md`: Detailed information file about the features in the provided datasets.\n",
    "- `AZDIAS_Feature_Summary.csv`: Summary of feature attributes for demographics data; 85 features (rows) x 4 columns\n",
    "\n",
    "Each row of the demographics files represents a single person, but also includes information outside of individuals, including information about their household, building, and neighborhood. You will use this information to cluster the general population into groups with similar demographic properties. Then, you will see how the people in the customers dataset fit into those created clusters. The hope here is that certain clusters are over-represented in the customers data, as compared to the general population; those over-represented clusters will be assumed to be part of the core userbase. This information can then be used for further applications, such as targeting for a marketing campaign.\n",
    "\n",
    "To start off with, load in the demographics data for the general population into a pandas DataFrame, and do the same for the feature attributes summary. Note for all of the `.csv` data files in this project: they're semicolon (`;`) delimited, so you'll need an additional argument in your [`read_csv()`](https://pandas.pydata.org/pandas-docs/stable/generated/pandas.read_csv.html) call to read in the data properly. Also, considering the size of the main dataset, it may take some time for it to load completely.\n",
    "\n",
    "Once the dataset is loaded, it's recommended that you take a little bit of time just browsing the general structure of the dataset and feature summary file. You'll be getting deep into the innards of the cleaning in the first major step of the project, so gaining some general familiarity can help you get your bearings."
   ]
  },
  {
   "cell_type": "code",
   "execution_count": 146,
   "metadata": {},
   "outputs": [],
   "source": [
    "# Load in the general demographics data.\n",
    "azdias = pd.read_csv(\"./Udacity_AZDIAS_Subset.csv\", sep=';')\n",
    "\n",
    "# Load in the feature summary file.\n",
    "feat_info = pd.read_csv(\"./AZDIAS_Feature_Summary.csv\", sep=';')"
   ]
  },
  {
   "cell_type": "code",
   "execution_count": 147,
   "metadata": {},
   "outputs": [
    {
     "name": "stdout",
     "output_type": "stream",
     "text": [
      "Number of features: 891221\n",
      "Number of entries: 85\n"
     ]
    },
    {
     "data": {
      "text/html": [
       "<div>\n",
       "<style scoped>\n",
       "    .dataframe tbody tr th:only-of-type {\n",
       "        vertical-align: middle;\n",
       "    }\n",
       "\n",
       "    .dataframe tbody tr th {\n",
       "        vertical-align: top;\n",
       "    }\n",
       "\n",
       "    .dataframe thead th {\n",
       "        text-align: right;\n",
       "    }\n",
       "</style>\n",
       "<table border=\"1\" class=\"dataframe\">\n",
       "  <thead>\n",
       "    <tr style=\"text-align: right;\">\n",
       "      <th></th>\n",
       "      <th>0</th>\n",
       "      <th>1</th>\n",
       "      <th>2</th>\n",
       "      <th>3</th>\n",
       "      <th>4</th>\n",
       "      <th>5</th>\n",
       "      <th>6</th>\n",
       "      <th>7</th>\n",
       "      <th>8</th>\n",
       "      <th>9</th>\n",
       "      <th>...</th>\n",
       "      <th>75</th>\n",
       "      <th>76</th>\n",
       "      <th>77</th>\n",
       "      <th>78</th>\n",
       "      <th>79</th>\n",
       "      <th>80</th>\n",
       "      <th>81</th>\n",
       "      <th>82</th>\n",
       "      <th>83</th>\n",
       "      <th>84</th>\n",
       "    </tr>\n",
       "  </thead>\n",
       "  <tbody>\n",
       "    <tr>\n",
       "      <th>attribute</th>\n",
       "      <td>AGER_TYP</td>\n",
       "      <td>ALTERSKATEGORIE_GROB</td>\n",
       "      <td>ANREDE_KZ</td>\n",
       "      <td>CJT_GESAMTTYP</td>\n",
       "      <td>FINANZ_MINIMALIST</td>\n",
       "      <td>FINANZ_SPARER</td>\n",
       "      <td>FINANZ_VORSORGER</td>\n",
       "      <td>FINANZ_ANLEGER</td>\n",
       "      <td>FINANZ_UNAUFFAELLIGER</td>\n",
       "      <td>FINANZ_HAUSBAUER</td>\n",
       "      <td>...</td>\n",
       "      <td>PLZ8_ANTG1</td>\n",
       "      <td>PLZ8_ANTG2</td>\n",
       "      <td>PLZ8_ANTG3</td>\n",
       "      <td>PLZ8_ANTG4</td>\n",
       "      <td>PLZ8_BAUMAX</td>\n",
       "      <td>PLZ8_HHZ</td>\n",
       "      <td>PLZ8_GBZ</td>\n",
       "      <td>ARBEIT</td>\n",
       "      <td>ORTSGR_KLS9</td>\n",
       "      <td>RELAT_AB</td>\n",
       "    </tr>\n",
       "    <tr>\n",
       "      <th>information_level</th>\n",
       "      <td>person</td>\n",
       "      <td>person</td>\n",
       "      <td>person</td>\n",
       "      <td>person</td>\n",
       "      <td>person</td>\n",
       "      <td>person</td>\n",
       "      <td>person</td>\n",
       "      <td>person</td>\n",
       "      <td>person</td>\n",
       "      <td>person</td>\n",
       "      <td>...</td>\n",
       "      <td>macrocell_plz8</td>\n",
       "      <td>macrocell_plz8</td>\n",
       "      <td>macrocell_plz8</td>\n",
       "      <td>macrocell_plz8</td>\n",
       "      <td>macrocell_plz8</td>\n",
       "      <td>macrocell_plz8</td>\n",
       "      <td>macrocell_plz8</td>\n",
       "      <td>community</td>\n",
       "      <td>community</td>\n",
       "      <td>community</td>\n",
       "    </tr>\n",
       "    <tr>\n",
       "      <th>type</th>\n",
       "      <td>categorical</td>\n",
       "      <td>ordinal</td>\n",
       "      <td>categorical</td>\n",
       "      <td>categorical</td>\n",
       "      <td>ordinal</td>\n",
       "      <td>ordinal</td>\n",
       "      <td>ordinal</td>\n",
       "      <td>ordinal</td>\n",
       "      <td>ordinal</td>\n",
       "      <td>ordinal</td>\n",
       "      <td>...</td>\n",
       "      <td>ordinal</td>\n",
       "      <td>ordinal</td>\n",
       "      <td>ordinal</td>\n",
       "      <td>ordinal</td>\n",
       "      <td>mixed</td>\n",
       "      <td>ordinal</td>\n",
       "      <td>ordinal</td>\n",
       "      <td>ordinal</td>\n",
       "      <td>ordinal</td>\n",
       "      <td>ordinal</td>\n",
       "    </tr>\n",
       "    <tr>\n",
       "      <th>missing_or_unknown</th>\n",
       "      <td>[-1,0]</td>\n",
       "      <td>[-1,0,9]</td>\n",
       "      <td>[-1,0]</td>\n",
       "      <td>[0]</td>\n",
       "      <td>[-1]</td>\n",
       "      <td>[-1]</td>\n",
       "      <td>[-1]</td>\n",
       "      <td>[-1]</td>\n",
       "      <td>[-1]</td>\n",
       "      <td>[-1]</td>\n",
       "      <td>...</td>\n",
       "      <td>[-1]</td>\n",
       "      <td>[-1]</td>\n",
       "      <td>[-1]</td>\n",
       "      <td>[-1]</td>\n",
       "      <td>[-1,0]</td>\n",
       "      <td>[-1]</td>\n",
       "      <td>[-1]</td>\n",
       "      <td>[-1,9]</td>\n",
       "      <td>[-1,0]</td>\n",
       "      <td>[-1,9]</td>\n",
       "    </tr>\n",
       "  </tbody>\n",
       "</table>\n",
       "<p>4 rows × 85 columns</p>\n",
       "</div>"
      ],
      "text/plain": [
       "                             0                     1            2   \\\n",
       "attribute              AGER_TYP  ALTERSKATEGORIE_GROB    ANREDE_KZ   \n",
       "information_level        person                person       person   \n",
       "type                categorical               ordinal  categorical   \n",
       "missing_or_unknown       [-1,0]              [-1,0,9]       [-1,0]   \n",
       "\n",
       "                               3                  4              5   \\\n",
       "attribute           CJT_GESAMTTYP  FINANZ_MINIMALIST  FINANZ_SPARER   \n",
       "information_level          person             person         person   \n",
       "type                  categorical            ordinal        ordinal   \n",
       "missing_or_unknown            [0]               [-1]           [-1]   \n",
       "\n",
       "                                  6               7                      8   \\\n",
       "attribute           FINANZ_VORSORGER  FINANZ_ANLEGER  FINANZ_UNAUFFAELLIGER   \n",
       "information_level             person          person                 person   \n",
       "type                         ordinal         ordinal                ordinal   \n",
       "missing_or_unknown              [-1]            [-1]                   [-1]   \n",
       "\n",
       "                                  9     ...                  75  \\\n",
       "attribute           FINANZ_HAUSBAUER    ...          PLZ8_ANTG1   \n",
       "information_level             person    ...      macrocell_plz8   \n",
       "type                         ordinal    ...             ordinal   \n",
       "missing_or_unknown              [-1]    ...                [-1]   \n",
       "\n",
       "                                76              77              78  \\\n",
       "attribute               PLZ8_ANTG2      PLZ8_ANTG3      PLZ8_ANTG4   \n",
       "information_level   macrocell_plz8  macrocell_plz8  macrocell_plz8   \n",
       "type                       ordinal         ordinal         ordinal   \n",
       "missing_or_unknown            [-1]            [-1]            [-1]   \n",
       "\n",
       "                                79              80              81         82  \\\n",
       "attribute              PLZ8_BAUMAX        PLZ8_HHZ        PLZ8_GBZ     ARBEIT   \n",
       "information_level   macrocell_plz8  macrocell_plz8  macrocell_plz8  community   \n",
       "type                         mixed         ordinal         ordinal    ordinal   \n",
       "missing_or_unknown          [-1,0]            [-1]            [-1]     [-1,9]   \n",
       "\n",
       "                             83         84  \n",
       "attribute           ORTSGR_KLS9   RELAT_AB  \n",
       "information_level     community  community  \n",
       "type                    ordinal    ordinal  \n",
       "missing_or_unknown       [-1,0]     [-1,9]  \n",
       "\n",
       "[4 rows x 85 columns]"
      ]
     },
     "execution_count": 147,
     "metadata": {},
     "output_type": "execute_result"
    }
   ],
   "source": [
    "azdias_rows = azdias.shape[0] \n",
    "azdias_columns = azdias.shape[1] \n",
    "print(\"Number of features: \"+str(azdias_rows))\n",
    "print(\"Number of entries: \"+str(azdias_columns))\n",
    "feat_info.T"
   ]
  },
  {
   "cell_type": "code",
   "execution_count": 148,
   "metadata": {},
   "outputs": [
    {
     "data": {
      "text/html": [
       "<div>\n",
       "<style scoped>\n",
       "    .dataframe tbody tr th:only-of-type {\n",
       "        vertical-align: middle;\n",
       "    }\n",
       "\n",
       "    .dataframe tbody tr th {\n",
       "        vertical-align: top;\n",
       "    }\n",
       "\n",
       "    .dataframe thead th {\n",
       "        text-align: right;\n",
       "    }\n",
       "</style>\n",
       "<table border=\"1\" class=\"dataframe\">\n",
       "  <thead>\n",
       "    <tr style=\"text-align: right;\">\n",
       "      <th></th>\n",
       "      <th>0</th>\n",
       "      <th>1</th>\n",
       "      <th>2</th>\n",
       "      <th>3</th>\n",
       "      <th>4</th>\n",
       "      <th>5</th>\n",
       "      <th>6</th>\n",
       "      <th>7</th>\n",
       "      <th>8</th>\n",
       "      <th>9</th>\n",
       "      <th>...</th>\n",
       "      <th>75</th>\n",
       "      <th>76</th>\n",
       "      <th>77</th>\n",
       "      <th>78</th>\n",
       "      <th>79</th>\n",
       "      <th>80</th>\n",
       "      <th>81</th>\n",
       "      <th>82</th>\n",
       "      <th>83</th>\n",
       "      <th>84</th>\n",
       "    </tr>\n",
       "  </thead>\n",
       "  <tbody>\n",
       "    <tr>\n",
       "      <th>attribute</th>\n",
       "      <td>AGER_TYP</td>\n",
       "      <td>ALTERSKATEGORIE_GROB</td>\n",
       "      <td>ANREDE_KZ</td>\n",
       "      <td>CJT_GESAMTTYP</td>\n",
       "      <td>FINANZ_MINIMALIST</td>\n",
       "      <td>FINANZ_SPARER</td>\n",
       "      <td>FINANZ_VORSORGER</td>\n",
       "      <td>FINANZ_ANLEGER</td>\n",
       "      <td>FINANZ_UNAUFFAELLIGER</td>\n",
       "      <td>FINANZ_HAUSBAUER</td>\n",
       "      <td>...</td>\n",
       "      <td>PLZ8_ANTG1</td>\n",
       "      <td>PLZ8_ANTG2</td>\n",
       "      <td>PLZ8_ANTG3</td>\n",
       "      <td>PLZ8_ANTG4</td>\n",
       "      <td>PLZ8_BAUMAX</td>\n",
       "      <td>PLZ8_HHZ</td>\n",
       "      <td>PLZ8_GBZ</td>\n",
       "      <td>ARBEIT</td>\n",
       "      <td>ORTSGR_KLS9</td>\n",
       "      <td>RELAT_AB</td>\n",
       "    </tr>\n",
       "    <tr>\n",
       "      <th>information_level</th>\n",
       "      <td>person</td>\n",
       "      <td>person</td>\n",
       "      <td>person</td>\n",
       "      <td>person</td>\n",
       "      <td>person</td>\n",
       "      <td>person</td>\n",
       "      <td>person</td>\n",
       "      <td>person</td>\n",
       "      <td>person</td>\n",
       "      <td>person</td>\n",
       "      <td>...</td>\n",
       "      <td>macrocell_plz8</td>\n",
       "      <td>macrocell_plz8</td>\n",
       "      <td>macrocell_plz8</td>\n",
       "      <td>macrocell_plz8</td>\n",
       "      <td>macrocell_plz8</td>\n",
       "      <td>macrocell_plz8</td>\n",
       "      <td>macrocell_plz8</td>\n",
       "      <td>community</td>\n",
       "      <td>community</td>\n",
       "      <td>community</td>\n",
       "    </tr>\n",
       "    <tr>\n",
       "      <th>type</th>\n",
       "      <td>categorical</td>\n",
       "      <td>ordinal</td>\n",
       "      <td>categorical</td>\n",
       "      <td>categorical</td>\n",
       "      <td>ordinal</td>\n",
       "      <td>ordinal</td>\n",
       "      <td>ordinal</td>\n",
       "      <td>ordinal</td>\n",
       "      <td>ordinal</td>\n",
       "      <td>ordinal</td>\n",
       "      <td>...</td>\n",
       "      <td>ordinal</td>\n",
       "      <td>ordinal</td>\n",
       "      <td>ordinal</td>\n",
       "      <td>ordinal</td>\n",
       "      <td>mixed</td>\n",
       "      <td>ordinal</td>\n",
       "      <td>ordinal</td>\n",
       "      <td>ordinal</td>\n",
       "      <td>ordinal</td>\n",
       "      <td>ordinal</td>\n",
       "    </tr>\n",
       "    <tr>\n",
       "      <th>missing_or_unknown</th>\n",
       "      <td>[-1,0]</td>\n",
       "      <td>[-1,0,9]</td>\n",
       "      <td>[-1,0]</td>\n",
       "      <td>[0]</td>\n",
       "      <td>[-1]</td>\n",
       "      <td>[-1]</td>\n",
       "      <td>[-1]</td>\n",
       "      <td>[-1]</td>\n",
       "      <td>[-1]</td>\n",
       "      <td>[-1]</td>\n",
       "      <td>...</td>\n",
       "      <td>[-1]</td>\n",
       "      <td>[-1]</td>\n",
       "      <td>[-1]</td>\n",
       "      <td>[-1]</td>\n",
       "      <td>[-1,0]</td>\n",
       "      <td>[-1]</td>\n",
       "      <td>[-1]</td>\n",
       "      <td>[-1,9]</td>\n",
       "      <td>[-1,0]</td>\n",
       "      <td>[-1,9]</td>\n",
       "    </tr>\n",
       "  </tbody>\n",
       "</table>\n",
       "<p>4 rows × 85 columns</p>\n",
       "</div>"
      ],
      "text/plain": [
       "                             0                     1            2   \\\n",
       "attribute              AGER_TYP  ALTERSKATEGORIE_GROB    ANREDE_KZ   \n",
       "information_level        person                person       person   \n",
       "type                categorical               ordinal  categorical   \n",
       "missing_or_unknown       [-1,0]              [-1,0,9]       [-1,0]   \n",
       "\n",
       "                               3                  4              5   \\\n",
       "attribute           CJT_GESAMTTYP  FINANZ_MINIMALIST  FINANZ_SPARER   \n",
       "information_level          person             person         person   \n",
       "type                  categorical            ordinal        ordinal   \n",
       "missing_or_unknown            [0]               [-1]           [-1]   \n",
       "\n",
       "                                  6               7                      8   \\\n",
       "attribute           FINANZ_VORSORGER  FINANZ_ANLEGER  FINANZ_UNAUFFAELLIGER   \n",
       "information_level             person          person                 person   \n",
       "type                         ordinal         ordinal                ordinal   \n",
       "missing_or_unknown              [-1]            [-1]                   [-1]   \n",
       "\n",
       "                                  9     ...                  75  \\\n",
       "attribute           FINANZ_HAUSBAUER    ...          PLZ8_ANTG1   \n",
       "information_level             person    ...      macrocell_plz8   \n",
       "type                         ordinal    ...             ordinal   \n",
       "missing_or_unknown              [-1]    ...                [-1]   \n",
       "\n",
       "                                76              77              78  \\\n",
       "attribute               PLZ8_ANTG2      PLZ8_ANTG3      PLZ8_ANTG4   \n",
       "information_level   macrocell_plz8  macrocell_plz8  macrocell_plz8   \n",
       "type                       ordinal         ordinal         ordinal   \n",
       "missing_or_unknown            [-1]            [-1]            [-1]   \n",
       "\n",
       "                                79              80              81         82  \\\n",
       "attribute              PLZ8_BAUMAX        PLZ8_HHZ        PLZ8_GBZ     ARBEIT   \n",
       "information_level   macrocell_plz8  macrocell_plz8  macrocell_plz8  community   \n",
       "type                         mixed         ordinal         ordinal    ordinal   \n",
       "missing_or_unknown          [-1,0]            [-1]            [-1]     [-1,9]   \n",
       "\n",
       "                             83         84  \n",
       "attribute           ORTSGR_KLS9   RELAT_AB  \n",
       "information_level     community  community  \n",
       "type                    ordinal    ordinal  \n",
       "missing_or_unknown       [-1,0]     [-1,9]  \n",
       "\n",
       "[4 rows x 85 columns]"
      ]
     },
     "execution_count": 148,
     "metadata": {},
     "output_type": "execute_result"
    }
   ],
   "source": [
    "# Check the structure of the data after it's loaded (e.g. print the number of\n",
    "# rows and columns, print the first few rows).\n",
    "feat_info.T\n"
   ]
  },
  {
   "cell_type": "markdown",
   "metadata": {},
   "source": [
    "> **Tip**: Add additional cells to keep everything in reasonably-sized chunks! Keyboard shortcut `esc --> a` (press escape to enter command mode, then press the 'A' key) adds a new cell before the active cell, and `esc --> b` adds a new cell after the active cell. If you need to convert an active cell to a markdown cell, use `esc --> m` and to convert to a code cell, use `esc --> y`. \n",
    "\n",
    "## Step 1: Preprocessing\n",
    "\n",
    "### Step 1.1: Assess Missing Data\n",
    "\n",
    "The feature summary file contains a summary of properties for each demographics data column. You will use this file to help you make cleaning decisions during this stage of the project. First of all, you should assess the demographics data in terms of missing data. Pay attention to the following points as you perform your analysis, and take notes on what you observe. Make sure that you fill in the **Discussion** cell with your findings and decisions at the end of each step that has one!\n",
    "\n",
    "#### Step 1.1.1: Convert Missing Value Codes to NaNs\n",
    "The fourth column of the feature attributes summary (loaded in above as `feat_info`) documents the codes from the data dictionary that indicate missing or unknown data. While the file encodes this as a list (e.g. `[-1,0]`), this will get read in as a string object. You'll need to do a little bit of parsing to make use of it to identify and clean the data. Convert data that matches a 'missing' or 'unknown' value code into a numpy NaN value. You might want to see how much data takes on a 'missing' or 'unknown' code, and how much data is naturally missing, as a point of interest.\n",
    "\n",
    "**As one more reminder, you are encouraged to add additional cells to break up your analysis into manageable chunks.**"
   ]
  },
  {
   "cell_type": "code",
   "execution_count": 149,
   "metadata": {},
   "outputs": [],
   "source": [
    "azdias_naned = azdias.copy()"
   ]
  },
  {
   "cell_type": "code",
   "execution_count": 150,
   "metadata": {},
   "outputs": [
    {
     "name": "stdout",
     "output_type": "stream",
     "text": [
      "['-1', '0'] 2\n",
      "int64 <class 'pandas.core.series.Series'> -1\n",
      "float64 <class 'pandas.core.series.Series'> 0\n",
      "['-1', '0', '9'] 2\n",
      "int64 <class 'pandas.core.series.Series'> -1\n",
      "int64 <class 'pandas.core.series.Series'> 0\n",
      "int64 <class 'pandas.core.series.Series'> 9\n",
      "['-1', '0'] 2\n",
      "int64 <class 'pandas.core.series.Series'> -1\n",
      "int64 <class 'pandas.core.series.Series'> 0\n",
      "['0'] 1\n",
      "float64 <class 'pandas.core.series.Series'> 0\n",
      "['-1'] 2\n",
      "int64 <class 'pandas.core.series.Series'> -1\n",
      "['-1'] 2\n",
      "int64 <class 'pandas.core.series.Series'> -1\n",
      "['-1'] 2\n",
      "int64 <class 'pandas.core.series.Series'> -1\n",
      "['-1'] 2\n",
      "int64 <class 'pandas.core.series.Series'> -1\n",
      "['-1'] 2\n",
      "int64 <class 'pandas.core.series.Series'> -1\n",
      "['-1'] 2\n",
      "int64 <class 'pandas.core.series.Series'> -1\n",
      "['-1'] 2\n",
      "int64 <class 'pandas.core.series.Series'> -1\n",
      "['0'] 1\n",
      "int64 <class 'pandas.core.series.Series'> 0\n",
      "[''] 0\n",
      "[''] 0\n",
      "['-1', '0'] 2\n",
      "int64 <class 'pandas.core.series.Series'> -1\n",
      "float64 <class 'pandas.core.series.Series'> 0\n",
      "['0'] 1\n",
      "float64 <class 'pandas.core.series.Series'> 0\n",
      "['0'] 1\n",
      "float64 <class 'pandas.core.series.Series'> 0\n",
      "['0'] 1\n",
      "float64 <class 'pandas.core.series.Series'> 0\n",
      "['0'] 1\n",
      "float64 <class 'pandas.core.series.Series'> 0\n",
      "['0'] 1\n",
      "float64 <class 'pandas.core.series.Series'> 0\n",
      "['0'] 1\n",
      "float64 <class 'pandas.core.series.Series'> 0\n",
      "['-1', '0'] 2\n",
      "int64 <class 'pandas.core.series.Series'> -1\n",
      "int64 <class 'pandas.core.series.Series'> 0\n",
      "['-1', '0'] 2\n",
      "int64 <class 'pandas.core.series.Series'> -1\n",
      "int64 <class 'pandas.core.series.Series'> 0\n",
      "['0'] 1\n",
      "float64 <class 'pandas.core.series.Series'> 0\n",
      "['-1', '9'] 2\n",
      "int64 <class 'pandas.core.series.Series'> -1\n",
      "int64 <class 'pandas.core.series.Series'> 9\n",
      "['-1', '9'] 2\n",
      "int64 <class 'pandas.core.series.Series'> -1\n",
      "int64 <class 'pandas.core.series.Series'> 9\n",
      "['-1', '9'] 2\n",
      "int64 <class 'pandas.core.series.Series'> -1\n",
      "int64 <class 'pandas.core.series.Series'> 9\n",
      "['-1', '9'] 2\n",
      "int64 <class 'pandas.core.series.Series'> -1\n",
      "int64 <class 'pandas.core.series.Series'> 9\n",
      "['-1', '9'] 2\n",
      "int64 <class 'pandas.core.series.Series'> -1\n",
      "int64 <class 'pandas.core.series.Series'> 9\n",
      "['-1', '9'] 2\n",
      "int64 <class 'pandas.core.series.Series'> -1\n",
      "int64 <class 'pandas.core.series.Series'> 9\n",
      "['-1', '9'] 2\n",
      "int64 <class 'pandas.core.series.Series'> -1\n",
      "int64 <class 'pandas.core.series.Series'> 9\n",
      "['-1', '9'] 2\n",
      "int64 <class 'pandas.core.series.Series'> -1\n",
      "int64 <class 'pandas.core.series.Series'> 9\n",
      "['-1', '9'] 2\n",
      "int64 <class 'pandas.core.series.Series'> -1\n",
      "int64 <class 'pandas.core.series.Series'> 9\n",
      "['-1', '9'] 2\n",
      "int64 <class 'pandas.core.series.Series'> -1\n",
      "int64 <class 'pandas.core.series.Series'> 9\n",
      "['-1', '9'] 2\n",
      "int64 <class 'pandas.core.series.Series'> -1\n",
      "int64 <class 'pandas.core.series.Series'> 9\n",
      "['-1', '9'] 2\n",
      "int64 <class 'pandas.core.series.Series'> -1\n",
      "int64 <class 'pandas.core.series.Series'> 9\n",
      "['-1', '9'] 2\n",
      "int64 <class 'pandas.core.series.Series'> -1\n",
      "int64 <class 'pandas.core.series.Series'> 9\n",
      "['-1', '9'] 2\n",
      "int64 <class 'pandas.core.series.Series'> -1\n",
      "int64 <class 'pandas.core.series.Series'> 9\n",
      "['-1'] 2\n",
      "int64 <class 'pandas.core.series.Series'> -1\n",
      "['-1'] 2\n",
      "float64 <class 'pandas.core.series.Series'> -1\n",
      "['-1', '0'] 2\n",
      "float64 <class 'pandas.core.series.Series'> -1\n",
      "float64 <class 'pandas.core.series.Series'> 0\n",
      "['-1'] 2\n",
      "int64 <class 'pandas.core.series.Series'> -1\n",
      "['-1', '9'] 2\n",
      "int64 <class 'pandas.core.series.Series'> -1\n",
      "int64 <class 'pandas.core.series.Series'> 9\n",
      "['0'] 1\n",
      "float64 <class 'pandas.core.series.Series'> 0\n",
      "[''] 0\n",
      "[''] 0\n",
      "['-1', '0'] 2\n",
      "float64 <class 'pandas.core.series.Series'> -1\n",
      "float64 <class 'pandas.core.series.Series'> 0\n",
      "['-1'] 2\n",
      "float64 <class 'pandas.core.series.Series'> -1\n",
      "['-1', '0'] 2\n",
      "float64 <class 'pandas.core.series.Series'> -1\n",
      "float64 <class 'pandas.core.series.Series'> 0\n",
      "['-1', '0'] 2\n",
      "float64 <class 'pandas.core.series.Series'> -1\n",
      "float64 <class 'pandas.core.series.Series'> 0\n",
      "['0'] 1\n",
      "float64 <class 'pandas.core.series.Series'> 0\n",
      "[''] 0\n",
      "['-1', '0'] 2\n",
      "float64 <class 'pandas.core.series.Series'> -1\n",
      "float64 <class 'pandas.core.series.Series'> 0\n",
      "[''] 0\n",
      "['0'] 1\n",
      "float64 <class 'pandas.core.series.Series'> 0\n",
      "['-1'] 2\n",
      "object <class 'pandas.core.series.Series'> -1\n",
      "['-1'] 2\n",
      "float64 <class 'pandas.core.series.Series'> -1\n",
      "['-1', 'X'] 2\n",
      "object <class 'pandas.core.series.Series'> -1\n",
      "object <class 'pandas.core.series.Series'> X\n",
      "['XX'] 2\n",
      "object <class 'pandas.core.series.Series'> XX\n",
      "['-1', 'XX'] 2\n",
      "object <class 'pandas.core.series.Series'> -1\n",
      "object <class 'pandas.core.series.Series'> XX\n",
      "['-1'] 2\n",
      "float64 <class 'pandas.core.series.Series'> -1\n",
      "['-1'] 2\n",
      "float64 <class 'pandas.core.series.Series'> -1\n",
      "['-1'] 2\n",
      "float64 <class 'pandas.core.series.Series'> -1\n",
      "['-1'] 2\n",
      "float64 <class 'pandas.core.series.Series'> -1\n",
      "['-1', '0'] 2\n",
      "float64 <class 'pandas.core.series.Series'> -1\n",
      "float64 <class 'pandas.core.series.Series'> 0\n",
      "['-1', '0'] 2\n",
      "float64 <class 'pandas.core.series.Series'> -1\n",
      "float64 <class 'pandas.core.series.Series'> 0\n",
      "['-1'] 2\n",
      "float64 <class 'pandas.core.series.Series'> -1\n",
      "['-1'] 2\n",
      "float64 <class 'pandas.core.series.Series'> -1\n",
      "['-1'] 2\n",
      "float64 <class 'pandas.core.series.Series'> -1\n",
      "[''] 0\n",
      "['-1', '0'] 2\n",
      "float64 <class 'pandas.core.series.Series'> -1\n",
      "float64 <class 'pandas.core.series.Series'> 0\n",
      "[''] 0\n",
      "[''] 0\n",
      "['-1', '0'] 2\n",
      "float64 <class 'pandas.core.series.Series'> -1\n",
      "float64 <class 'pandas.core.series.Series'> 0\n",
      "[''] 0\n",
      "['-1'] 2\n",
      "float64 <class 'pandas.core.series.Series'> -1\n",
      "['-1'] 2\n",
      "float64 <class 'pandas.core.series.Series'> -1\n",
      "['-1'] 2\n",
      "float64 <class 'pandas.core.series.Series'> -1\n",
      "['-1'] 2\n",
      "float64 <class 'pandas.core.series.Series'> -1\n",
      "['-1', '0'] 2\n",
      "float64 <class 'pandas.core.series.Series'> -1\n",
      "float64 <class 'pandas.core.series.Series'> 0\n",
      "['-1'] 2\n",
      "float64 <class 'pandas.core.series.Series'> -1\n",
      "['-1'] 2\n",
      "float64 <class 'pandas.core.series.Series'> -1\n",
      "['-1', '9'] 2\n",
      "float64 <class 'pandas.core.series.Series'> -1\n",
      "float64 <class 'pandas.core.series.Series'> 9\n",
      "['-1', '0'] 2\n",
      "float64 <class 'pandas.core.series.Series'> -1\n",
      "float64 <class 'pandas.core.series.Series'> 0\n",
      "['-1', '9'] 2\n",
      "float64 <class 'pandas.core.series.Series'> -1\n",
      "float64 <class 'pandas.core.series.Series'> 9\n",
      "                        0     1     2     3     4     5    6     7     8   \\\n",
      "AGER_TYP               NaN   NaN   NaN     2   NaN     3  NaN   NaN   NaN   \n",
      "ALTERSKATEGORIE_GROB     2     1     3     4     3     1    2     1     3   \n",
      "ANREDE_KZ                1     2     2     2     1     2    2     1     1   \n",
      "CJT_GESAMTTYP            2     5     3     2     5     2    5     3     3   \n",
      "FINANZ_MINIMALIST        3     1     1     4     4     3    1     3     4   \n",
      "FINANZ_SPARER            4     5     4     2     3     1    5     3     4   \n",
      "FINANZ_VORSORGER         3     2     1     5     4     5    1     4     2   \n",
      "FINANZ_ANLEGER           5     5     2     2     1     2    5     1     4   \n",
      "FINANZ_UNAUFFAELLIGER    5     4     3     1     3     2    4     3     2   \n",
      "FINANZ_HAUSBAUER         3     5     5     2     2     5    3     2     2   \n",
      "FINANZTYP                4     1     1     6     5     2    4     5     6   \n",
      "GEBURTSJAHR            NaN  1996  1979  1957  1963  1943  NaN  1964  1974   \n",
      "GFK_URLAUBERTYP         10    10    10     1     5     1   12     9     3   \n",
      "GREEN_AVANTGARDE         0     0     1     0     0     0    0     0     1   \n",
      "HEALTH_TYP             NaN     3     3     2     3     3    2     1     3   \n",
      "LP_LEBENSPHASE_FEIN     15    21     3   NaN    32     8    2     5    10   \n",
      "LP_LEBENSPHASE_GROB      4     6     1   NaN    10     2    1     2     3   \n",
      "LP_FAMILIE_FEIN          2     5     1   NaN    10     1    1     1     1   \n",
      "LP_FAMILIE_GROB          2     3     1   NaN     5     1    1     1     1   \n",
      "LP_STATUS_FEIN           1     2     3     9     3     4    2     1    10   \n",
      "LP_STATUS_GROB           1     1     2     4     2     2    1     1     5   \n",
      "NATIONALITAET_KZ       NaN     1     1     1     1     1    1     1     1   \n",
      "PRAEGENDE_JUGENDJAHRE  NaN    14    15     8     8     3   10     8    11   \n",
      "RETOURTYP_BK_S           5     1     3     2     5     3    4     5     4   \n",
      "SEMIO_SOZ                2     5     4     5     6     2    2     7     4   \n",
      "SEMIO_FAM                6     4     1     1     4     4    5     7     5   \n",
      "SEMIO_REL                7     4     3     2     4     7    5     7     4   \n",
      "SEMIO_MAT                5     3     3     1     2     4    7     5     1   \n",
      "SEMIO_VERT               1     1     4     4     7     2    2     6     5   \n",
      "SEMIO_LUST               5     2     4     4     4     2    6     2     6   \n",
      "...                    ...   ...   ...   ...   ...   ...  ...   ...   ...   \n",
      "OST_WEST_KZ            NaN     W     W     W     W     W    W     W     W   \n",
      "WOHNLAGE               NaN     4     2     7     3     7    5     1     1   \n",
      "CAMEO_DEUG_2015        NaN     8     4     2     6     8    4     2     1   \n",
      "CAMEO_DEU_2015         NaN    8A    4C    2A    6B    8C   4A    2D    1A   \n",
      "CAMEO_INTL_2015        NaN    51    24    12    43    54   22    14    13   \n",
      "KBA05_ANTG1            NaN     0     1     4     1     2    3     2     1   \n",
      "KBA05_ANTG2            NaN     0     3     1     4     2    2     2     1   \n",
      "KBA05_ANTG3            NaN     0     1     0     1     0    0     0     0   \n",
      "KBA05_ANTG4            NaN     2     0     0     0     0    0     0     0   \n",
      "KBA05_BAUMAX           NaN     5   NaN     1   NaN   NaN    1   NaN   NaN   \n",
      "KBA05_GBZ              NaN     1     3     4     3     4    3     4     5   \n",
      "BALLRAUM               NaN     6     2     4     2     6    6     2     3   \n",
      "EWDICHTE               NaN     3     4     2     5     2    4     5     4   \n",
      "INNENSTADT             NaN     8     4     6     1     7    3     3     4   \n",
      "GEBAEUDETYP_RASTER     NaN     3     4     4     5     4    5     4     4   \n",
      "KKK                    NaN     2     2   NaN     3     4    3     1     1   \n",
      "MOBI_REGIO             NaN     1     3     4     3     4    5     4     3   \n",
      "ONLINE_AFFINITAET        1     3     2     1     5     1    2     1     2   \n",
      "REGIOTYP               NaN     3     2   NaN     5     5    5     1     3   \n",
      "KBA13_ANZAHL_PKW       NaN   963   712   596   435  1300  867   758   511   \n",
      "PLZ8_ANTG1             NaN     2     3     2     2     2    3     3     2   \n",
      "PLZ8_ANTG2             NaN     3     3     2     4     3    3     3     3   \n",
      "PLZ8_ANTG3             NaN     2     1     2     2     1    1     1     2   \n",
      "PLZ8_ANTG4             NaN     1     0     0     1     1    0     0     1   \n",
      "PLZ8_BAUMAX            NaN     1     1     1     2     1    1     1     1   \n",
      "PLZ8_HHZ               NaN     5     4     3     3     5    5     4     3   \n",
      "PLZ8_GBZ               NaN     4     4     4     3     5    5     4     3   \n",
      "ARBEIT                 NaN     3     3     2     4     2    4     2     2   \n",
      "ORTSGR_KLS9            NaN     5     5     3     6     3    6     5     4   \n",
      "RELAT_AB               NaN     4     2     3     5     3    3     2     3   \n",
      "\n",
      "                         9     10   11    12    13  \n",
      "AGER_TYP                NaN   NaN  NaN   NaN   NaN  \n",
      "ALTERSKATEGORIE_GROB      3     3    2     3     1  \n",
      "ANREDE_KZ                 2     2    1     1     2  \n",
      "CJT_GESAMTTYP             4     1    6     6     5  \n",
      "FINANZ_MINIMALIST         2     2    3     5     1  \n",
      "FINANZ_SPARER             4     2    4     3     4  \n",
      "FINANZ_VORSORGER          2     5    3     4     3  \n",
      "FINANZ_ANLEGER            3     3    5     2     5  \n",
      "FINANZ_UNAUFFAELLIGER     5     1    5     4     5  \n",
      "FINANZ_HAUSBAUER          4     5    3     1     2  \n",
      "FINANZTYP                 1     6    4     3     1  \n",
      "GEBURTSJAHR            1975  1941  NaN   NaN  1993  \n",
      "GFK_URLAUBERTYP          12     8    5    10    12  \n",
      "GREEN_AVANTGARDE          1     0    0     0     1  \n",
      "HEALTH_TYP                2     2  NaN     1     3  \n",
      "LP_LEBENSPHASE_FEIN       4     6  NaN    23     3  \n",
      "LP_LEBENSPHASE_GROB       1     2  NaN     6     1  \n",
      "LP_FAMILIE_FEIN           1     1  NaN     5     1  \n",
      "LP_FAMILIE_GROB           1     1  NaN     3     1  \n",
      "LP_STATUS_FEIN            3     1    5     9     5  \n",
      "LP_STATUS_GROB            2     1    2     4     2  \n",
      "NATIONALITAET_KZ          1     1  NaN     1     1  \n",
      "PRAEGENDE_JUGENDJAHRE    15     3  NaN     8    15  \n",
      "RETOURTYP_BK_S            4     5    3     5     1  \n",
      "SEMIO_SOZ                 2     5    2     3     2  \n",
      "SEMIO_FAM                 1     2    6     4     4  \n",
      "SEMIO_REL                 1     3    7     4     5  \n",
      "SEMIO_MAT                 3     5    5     6     4  \n",
      "SEMIO_VERT                2     5    1     7     1  \n",
      "SEMIO_LUST                6     6    5     6     2  \n",
      "...                     ...   ...  ...   ...   ...  \n",
      "OST_WEST_KZ               W     W  NaN     W     W  \n",
      "WOHNLAGE                  7     5  NaN     3     5  \n",
      "CAMEO_DEUG_2015           1     9  NaN     6     5  \n",
      "CAMEO_DEU_2015           1E    9D  NaN    6B    5C  \n",
      "CAMEO_INTL_2015          15    51  NaN    43    33  \n",
      "KBA05_ANTG1               1     0  NaN   NaN   NaN  \n",
      "KBA05_ANTG2               3     4  NaN   NaN   NaN  \n",
      "KBA05_ANTG3               1     1  NaN   NaN   NaN  \n",
      "KBA05_ANTG4               0     0  NaN   NaN   NaN  \n",
      "KBA05_BAUMAX            NaN     2  NaN   NaN   NaN  \n",
      "KBA05_GBZ                 2     2  NaN   NaN   NaN  \n",
      "BALLRAUM                  6     6  NaN     2     7  \n",
      "EWDICHTE                  5     4  NaN     5     2  \n",
      "INNENSTADT                4     4  NaN     4     8  \n",
      "GEBAEUDETYP_RASTER        3     5  NaN     4     4  \n",
      "KKK                       1     4  NaN     3   NaN  \n",
      "MOBI_REGIO                3     1  NaN   NaN   NaN  \n",
      "ONLINE_AFFINITAET         3     1    2     4     5  \n",
      "REGIOTYP                  1     7  NaN     7   NaN  \n",
      "KBA13_ANZAHL_PKW        530   424  NaN  1106   486  \n",
      "PLZ8_ANTG1                2     2  NaN     3     2  \n",
      "PLZ8_ANTG2                3     4  NaN     3     1  \n",
      "PLZ8_ANTG3                2     2  NaN     1     1  \n",
      "PLZ8_ANTG4                1     0  NaN     0     1  \n",
      "PLZ8_BAUMAX               1     2  NaN     1     1  \n",
      "PLZ8_HHZ                  3     3  NaN     5     3  \n",
      "PLZ8_GBZ                  3     3  NaN     5     3  \n",
      "ARBEIT                    2     4  NaN     3     3  \n",
      "ORTSGR_KLS9               3     6  NaN     6     6  \n",
      "RELAT_AB                  1     5  NaN     4     4  \n",
      "\n",
      "[85 rows x 14 columns]\n"
     ]
    }
   ],
   "source": [
    "# Identify missing or unknown data values and convert them to NaNs.\n",
    "for i in range(feat_info.shape[0]):\n",
    "    \n",
    "    att = feat_info[\"attribute\"][i]\n",
    "    missingVals = feat_info[\"missing_or_unknown\"][i].strip(\"[]\")\n",
    "    missingVals = missingVals.split(\",\")\n",
    "    print(missingVals,len(missingVals[0]))\n",
    "    if len(missingVals[0]) == 0:\n",
    "        azdias_naned[att] = azdias_naned[att].replace(missingVals,np.nan)\n",
    "    else:\n",
    "        for j in range(len(missingVals)):\n",
    "            print(azdias_naned[att].dtype,type(azdias_naned[att]),missingVals[j])\n",
    "            if(azdias_naned[att].dtype == np.float64):\n",
    "                azdias_naned[att] = azdias_naned[att].replace(float(missingVals[j]),np.nan)\n",
    "            elif(azdias_naned[att].dtype == np.int64):\n",
    "                azdias_naned[att] = azdias_naned[att].replace(int(missingVals[j]),np.nan)\n",
    "            else:\n",
    "                azdias_naned[att] = azdias_naned[att].replace(missingVals[j],np.nan)\n",
    "\n",
    "print(azdias_naned.head(14).T)\n"
   ]
  },
  {
   "cell_type": "markdown",
   "metadata": {},
   "source": [
    "#### Step 1.1.2: Assess Missing Data in Each Column\n",
    "\n",
    "How much missing data is present in each column? There are a few columns that are outliers in terms of the proportion of values that are missing. You will want to use matplotlib's [`hist()`](https://matplotlib.org/api/_as_gen/matplotlib.pyplot.hist.html) function to visualize the distribution of missing value counts to find these columns. Identify and document these columns. While some of these columns might have justifications for keeping or re-encoding the data, for this project you should just remove them from the dataframe. (Feel free to make remarks about these outlier columns in the discussion, however!)\n",
    "\n",
    "For the remaining features, are there any patterns in which columns have, or share, missing data?"
   ]
  },
  {
   "cell_type": "code",
   "execution_count": 151,
   "metadata": {},
   "outputs": [
    {
     "name": "stdout",
     "output_type": "stream",
     "text": [
      "[76.955435296071343, 0.32326437550282144, 0.0, 0.54464605299919999, 0.0, 0.0, 0.0, 0.0, 0.0, 0.0, 0.0, 44.02028228688507, 0.54464605299919999, 0.0, 12.476815514894735, 10.954858559212585, 10.611509378706293, 8.7286991666489016, 8.7286991666489016, 0.54464605299919999, 0.54464605299919999, 12.153551139391913, 12.136608091595686, 0.54464605299919999, 0.0, 0.0, 0.0, 0.0, 0.0, 0.0, 0.0, 0.0, 0.0, 0.0, 0.0, 0.0, 0.0, 0.0, 12.476815514894735, 8.2470004634091882, 99.757635872583791, 12.476815514894735, 0.0, 34.813699407890972, 8.2470004634091882, 8.2470004634091882, 2.0587486156632306, 65.596748730112949, 16.605084485217471, 8.2470004634091882, 11.176913470396231, 10.884842255736793, 10.451728583594866, 8.299737102245123, 10.451728583594866, 10.451728583594866, 10.451728583594866, 11.147852216229195, 11.147852216229195, 11.147852216229195, 14.959701353536328, 14.959701353536328, 14.959701353536328, 14.959701353536328, 53.468668265222654, 14.959701353536328, 10.518154307405233, 10.518154307405233, 10.518154307405233, 10.452514022896677, 17.73566825736826, 14.959701353536328, 0.54464605299919999, 17.73566825736826, 11.871354018812394, 13.073637178657146, 13.073637178657146, 13.073637178657146, 13.073637178657146, 13.073637178657146, 13.073637178657146, 13.073637178657146, 10.92602171627464, 10.91468894920564, 10.92602171627464]\n",
      "['AGER_TYP', 'ALTERSKATEGORIE_GROB', 'ANREDE_KZ', 'CJT_GESAMTTYP', 'FINANZ_MINIMALIST', 'FINANZ_SPARER', 'FINANZ_VORSORGER', 'FINANZ_ANLEGER', 'FINANZ_UNAUFFAELLIGER', 'FINANZ_HAUSBAUER', 'FINANZTYP', 'GEBURTSJAHR', 'GFK_URLAUBERTYP', 'GREEN_AVANTGARDE', 'HEALTH_TYP', 'LP_LEBENSPHASE_FEIN', 'LP_LEBENSPHASE_GROB', 'LP_FAMILIE_FEIN', 'LP_FAMILIE_GROB', 'LP_STATUS_FEIN', 'LP_STATUS_GROB', 'NATIONALITAET_KZ', 'PRAEGENDE_JUGENDJAHRE', 'RETOURTYP_BK_S', 'SEMIO_SOZ', 'SEMIO_FAM', 'SEMIO_REL', 'SEMIO_MAT', 'SEMIO_VERT', 'SEMIO_LUST', 'SEMIO_ERL', 'SEMIO_KULT', 'SEMIO_RAT', 'SEMIO_KRIT', 'SEMIO_DOM', 'SEMIO_KAEM', 'SEMIO_PFLICHT', 'SEMIO_TRADV', 'SHOPPER_TYP', 'SOHO_KZ', 'TITEL_KZ', 'VERS_TYP', 'ZABEOTYP', 'ALTER_HH', 'ANZ_PERSONEN', 'ANZ_TITEL', 'HH_EINKOMMEN_SCORE', 'KK_KUNDENTYP', 'W_KEIT_KIND_HH', 'WOHNDAUER_2008', 'ANZ_HAUSHALTE_AKTIV', 'ANZ_HH_TITEL', 'GEBAEUDETYP', 'KONSUMNAEHE', 'MIN_GEBAEUDEJAHR', 'OST_WEST_KZ', 'WOHNLAGE', 'CAMEO_DEUG_2015', 'CAMEO_DEU_2015', 'CAMEO_INTL_2015', 'KBA05_ANTG1', 'KBA05_ANTG2', 'KBA05_ANTG3', 'KBA05_ANTG4', 'KBA05_BAUMAX', 'KBA05_GBZ', 'BALLRAUM', 'EWDICHTE', 'INNENSTADT', 'GEBAEUDETYP_RASTER', 'KKK', 'MOBI_REGIO', 'ONLINE_AFFINITAET', 'REGIOTYP', 'KBA13_ANZAHL_PKW', 'PLZ8_ANTG1', 'PLZ8_ANTG2', 'PLZ8_ANTG3', 'PLZ8_ANTG4', 'PLZ8_BAUMAX', 'PLZ8_HHZ', 'PLZ8_GBZ', 'ARBEIT', 'ORTSGR_KLS9', 'RELAT_AB']\n",
      "85 85\n"
     ]
    }
   ],
   "source": [
    "# Perform an assessment of how much missing data there is in each column of the\n",
    "# dataset.\n",
    "missing = []\n",
    "for i in range(feat_info.shape[0]):\n",
    "    att = feat_info[\"attribute\"][i]\n",
    "    cnt = azdias_naned[att].count()\n",
    "    missing.append(cnt)\n",
    "missing = [(azdias_rows-x)/len(azdias)*100 for x in missing]\n"
   ]
  },
  {
   "cell_type": "code",
   "execution_count": 152,
   "metadata": {},
   "outputs": [
    {
     "data": {
      "image/png": "[encoded data removed]",
      "text/plain": [
       "<matplotlib.figure.Figure at 0x7f178d5b1b00>"
      ]
     },
     "metadata": {
      "needs_background": "light"
     },
     "output_type": "display_data"
    },
    {
     "name": "stdout",
     "output_type": "stream",
     "text": [
      "[34.813699407890972, 44.02028228688507, 53.468668265222654, 65.596748730112949, 76.955435296071343, 99.757635872583791]\n"
     ]
    }
   ],
   "source": [
    "# Investigate patterns in the amount of missing data in each column.\n",
    "fig,ax = plt.subplots()\n",
    "ax.hist(missing, density=False, bins=50)\n",
    "plt.show()\n",
    "\n",
    "missing_sorted = list(sorted(missing))\n",
    "print(missing_sorted[-6:])"
   ]
  },
  {
   "cell_type": "code",
   "execution_count": 153,
   "metadata": {},
   "outputs": [
    {
     "name": "stdout",
     "output_type": "stream",
     "text": [
      "(891221, 85) (85, 4)\n",
      "Droppin': AGER_TYP\n",
      "Droppin': GEBURTSJAHR\n",
      "Droppin': TITEL_KZ\n",
      "Droppin': ALTER_HH\n",
      "Droppin': KK_KUNDENTYP\n",
      "Droppin': KBA05_BAUMAX\n",
      "(891221, 79) (79, 4)\n"
     ]
    }
   ],
   "source": [
    "# Remove the outlier columns from the dataset. (You'll perform other data\n",
    "# engineering tasks such as re-encoding and imputation later.)\n",
    "azdias_dropped = azdias_naned.copy()\n",
    "feat_info_dropped = feat_info.copy()\n",
    "\n",
    "print(azdias_dropped.shape,feat_info_dropped.shape)\n",
    "\n",
    "for i in range(len(missing)):\n",
    "    if (missing[i])>30:\n",
    "        att = feat_info[\"attribute\"][i]\n",
    "        print(\"Droppin': \"+str(att))\n",
    "        azdias_dropped = azdias_dropped.drop(columns=att)\n",
    "        feat_info_dropped = feat_info_dropped.drop(i)\n",
    "\n",
    "print(azdias_dropped.shape,feat_info_dropped.shape)"
   ]
  },
  {
   "cell_type": "markdown",
   "metadata": {},
   "source": [
    "#### Discussion 1.1.2: Assess Missing Data in Each Column\n",
    "\n",
    "(Double click this cell and replace this text with your own text, reporting your observations regarding the amount of missing data in each column. Are there any patterns in missing values? Which columns were removed from the dataset?)\n",
    "\n",
    "From the histogram above we can see that most of the data has less than 2 missing values for every 9 entries. However, six of the columns show a noticeably larger amount of missing data. These were removed as outliers.\n",
    "\n",
    "**The following columns were removed:**\n",
    "* AGER_TYP\n",
    "* GEBURTSJAHR\n",
    "* TITEL_KZ\n",
    "* ALTER_HH\n",
    "* KK_KUNDENTYP\n",
    "* KBA05_BAUMAX"
   ]
  },
  {
   "cell_type": "markdown",
   "metadata": {},
   "source": [
    "#### Step 1.1.3: Assess Missing Data in Each Row\n",
    "\n",
    "Now, you'll perform a similar assessment for the rows of the dataset. How much data is missing in each row? As with the columns, you should see some groups of points that have a very different numbers of missing values. Divide the data into two subsets: one for data points that are above some threshold for missing values, and a second subset for points below that threshold.\n",
    "\n",
    "In order to know what to do with the outlier rows, we should see if the distribution of data values on columns that are not missing data (or are missing very little data) are similar or different between the two groups. Select at least five of these columns and compare the distribution of values.\n",
    "- You can use seaborn's [`countplot()`](https://seaborn.pydata.org/generated/seaborn.countplot.html) function to create a bar chart of code frequencies and matplotlib's [`subplot()`](https://matplotlib.org/api/_as_gen/matplotlib.pyplot.subplot.html) function to put bar charts for the two subplots side by side.\n",
    "- To reduce repeated code, you might want to write a function that can perform this comparison, taking as one of its arguments a column to be compared.\n",
    "\n",
    "Depending on what you observe in your comparison, this will have implications on how you approach your conclusions later in the analysis. If the distributions of non-missing features look similar between the data with many missing values and the data with few or no missing values, then we could argue that simply dropping those points from the analysis won't present a major issue. On the other hand, if the data with many missing values looks very different from the data with few or no missing values, then we should make a note on those data as special. We'll revisit these data later on. **Either way, you should continue your analysis for now using just the subset of the data with few or no missing values.**"
   ]
  },
  {
   "cell_type": "code",
   "execution_count": 154,
   "metadata": {},
   "outputs": [
    {
     "data": {
      "text/plain": [
       "count    891221.000000\n",
       "mean          5.649894\n",
       "std          13.234687\n",
       "min           0.000000\n",
       "25%           0.000000\n",
       "50%           0.000000\n",
       "75%           3.000000\n",
       "max          49.000000\n",
       "dtype: float64"
      ]
     },
     "execution_count": 154,
     "metadata": {},
     "output_type": "execute_result"
    }
   ],
   "source": [
    "# How much data is missing in each row of the dataset?\n",
    "missing_data_by_row = azdias_dropped.isnull().sum(axis=1)\n",
    "missing_data_by_row.describe()\n"
   ]
  },
  {
   "cell_type": "code",
   "execution_count": 155,
   "metadata": {},
   "outputs": [
    {
     "data": {
      "image/png": "[encoded data removed]",
      "text/plain": [
       "<matplotlib.figure.Figure at 0x7f17a0eb8898>"
      ]
     },
     "metadata": {
      "needs_background": "light"
     },
     "output_type": "display_data"
    }
   ],
   "source": [
    "# Write code to divide the data into two subsets based on the number of missing\n",
    "# values in each row.\n",
    "\n",
    "missing_data_by_row.sort_values(inplace=True)\n",
    "\n",
    "plt.hist(missing_data_by_row, bins=25)\n",
    "plt.show()\n"
   ]
  },
  {
   "cell_type": "code",
   "execution_count": 156,
   "metadata": {},
   "outputs": [],
   "source": [
    "# Compare the distribution of values for at least five columns where there are\n",
    "# no or few missing values, between the two subsets.\n",
    "data_by_row_less = azdias_dropped[azdias_dropped.isnull().sum(axis=1) < 20].reset_index(drop=True)\n",
    "data_by_row_more = azdias_dropped[azdias_dropped.isnull().sum(axis=1) >= 20].reset_index(drop=True)"
   ]
  },
  {
   "cell_type": "code",
   "execution_count": 157,
   "metadata": {},
   "outputs": [
    {
     "data": {
      "text/plain": [
       "(797077, 79)"
      ]
     },
     "execution_count": 157,
     "metadata": {},
     "output_type": "execute_result"
    }
   ],
   "source": [
    "data_by_row_less.shape"
   ]
  },
  {
   "cell_type": "markdown",
   "metadata": {},
   "source": [
    "#### Discussion 1.1.3: Assess Missing Data in Each Row\n",
    "\n",
    "As we can see in the distribution above, most of the rows have less than 20 missing data entries. Some, however, have over 30 or even 40 missing entries. For further analysis, the data will be separated in rows with more and less than 20 missing entries."
   ]
  },
  {
   "cell_type": "markdown",
   "metadata": {},
   "source": [
    "### Step 1.2: Select and Re-Encode Features\n",
    "\n",
    "Checking for missing data isn't the only way in which you can prepare a dataset for analysis. Since the unsupervised learning techniques to be used will only work on data that is encoded numerically, you need to make a few encoding changes or additional assumptions to be able to make progress. In addition, while almost all of the values in the dataset are encoded using numbers, not all of them represent numeric values. Check the third column of the feature summary (`feat_info`) for a summary of types of measurement.\n",
    "- For numeric and interval data, these features can be kept without changes.\n",
    "- Most of the variables in the dataset are ordinal in nature. While ordinal values may technically be non-linear in spacing, make the simplifying assumption that the ordinal variables can be treated as being interval in nature (that is, kept without any changes).\n",
    "- Special handling may be necessary for the remaining two variable types: categorical, and 'mixed'.\n",
    "\n",
    "In the first two parts of this sub-step, you will perform an investigation of the categorical and mixed-type features and make a decision on each of them, whether you will keep, drop, or re-encode each. Then, in the last part, you will create a new data frame with only the selected and engineered columns.\n",
    "\n",
    "Data wrangling is often the trickiest part of the data analysis process, and there's a lot of it to be done here. But stick with it: once you're done with this step, you'll be ready to get to the machine learning parts of the project!"
   ]
  },
  {
   "cell_type": "code",
   "execution_count": 158,
   "metadata": {},
   "outputs": [
    {
     "data": {
      "text/plain": [
       "ordinal        49\n",
       "categorical    18\n",
       "mixed           6\n",
       "numeric         6\n",
       "Name: type, dtype: int64"
      ]
     },
     "execution_count": 158,
     "metadata": {},
     "output_type": "execute_result"
    }
   ],
   "source": [
    "# How many features are there of each data type?\n",
    "feat_info_dropped[\"type\"].value_counts()"
   ]
  },
  {
   "cell_type": "markdown",
   "metadata": {},
   "source": [
    "#### Step 1.2.1: Re-Encode Categorical Features\n",
    "\n",
    "For categorical data, you would ordinarily need to encode the levels as dummy variables. Depending on the number of categories, perform one of the following:\n",
    "- For binary (two-level) categoricals that take numeric values, you can keep them without needing to do anything.\n",
    "- There is one binary variable that takes on non-numeric values. For this one, you need to re-encode the values as numbers or create a dummy variable.\n",
    "- For multi-level categoricals (three or more values), you can choose to encode the values using multiple dummy variables (e.g. via [OneHotEncoder](http://scikit-learn.org/stable/modules/generated/sklearn.preprocessing.OneHotEncoder.html)), or (to keep things straightforward) just drop them from the analysis. As always, document your choices in the Discussion section."
   ]
  },
  {
   "cell_type": "code",
   "execution_count": 159,
   "metadata": {},
   "outputs": [
    {
     "name": "stdout",
     "output_type": "stream",
     "text": [
      "2            ANREDE_KZ\n",
      "3        CJT_GESAMTTYP\n",
      "10           FINANZTYP\n",
      "12     GFK_URLAUBERTYP\n",
      "13    GREEN_AVANTGARDE\n",
      "17     LP_FAMILIE_FEIN\n",
      "18     LP_FAMILIE_GROB\n",
      "19      LP_STATUS_FEIN\n",
      "20      LP_STATUS_GROB\n",
      "21    NATIONALITAET_KZ\n",
      "38         SHOPPER_TYP\n",
      "39             SOHO_KZ\n",
      "41            VERS_TYP\n",
      "42            ZABEOTYP\n",
      "52         GEBAEUDETYP\n",
      "55         OST_WEST_KZ\n",
      "57     CAMEO_DEUG_2015\n",
      "58      CAMEO_DEU_2015\n",
      "Name: attribute, dtype: object\n"
     ]
    }
   ],
   "source": [
    "feat_by_cat = feat_info_dropped[feat_info_dropped.type == \"categorical\"].attribute\n",
    "print(feat_by_cat)"
   ]
  },
  {
   "cell_type": "code",
   "execution_count": 160,
   "metadata": {},
   "outputs": [
    {
     "name": "stdout",
     "output_type": "stream",
     "text": [
      "Binary features:  ['ANREDE_KZ', 'GREEN_AVANTGARDE', 'SOHO_KZ', 'OST_WEST_KZ'] \n",
      "\n",
      "Multi-level features:  ['CJT_GESAMTTYP', 'FINANZTYP', 'GFK_URLAUBERTYP', 'LP_FAMILIE_FEIN', 'LP_FAMILIE_GROB', 'LP_STATUS_FEIN', 'LP_STATUS_GROB', 'NATIONALITAET_KZ', 'SHOPPER_TYP', 'VERS_TYP', 'ZABEOTYP', 'GEBAEUDETYP', 'CAMEO_DEUG_2015', 'CAMEO_DEU_2015']\n"
     ]
    }
   ],
   "source": [
    "# Assess categorical variables: which are binary, which are multi-level, and\n",
    "# which one needs to be re-encoded?\n",
    "binary = []\n",
    "multi_level = []\n",
    "for feat in feat_by_cat:\n",
    "    N = len(data_by_row_less[feat].unique())\n",
    "    if N==2:\n",
    "        binary.append(feat)\n",
    "    else:\n",
    "        multi_level.append(feat)\n",
    "        \n",
    "print(\"Binary features: \",binary,\"\\n\\nMulti-level features: \",multi_level)"
   ]
  },
  {
   "cell_type": "code",
   "execution_count": 161,
   "metadata": {},
   "outputs": [
    {
     "name": "stdout",
     "output_type": "stream",
     "text": [
      "ANREDE_KZ : [2, 1]\n",
      "GREEN_AVANTGARDE : [0, 1]\n",
      "SOHO_KZ : [1.0, 0.0]\n",
      "OST_WEST_KZ : ['W', 'O']\n"
     ]
    }
   ],
   "source": [
    "# Exploring binary features\n",
    "for feat in binary:\n",
    "    print(feat,\":\",list(data_by_row_less[feat].unique()))"
   ]
  },
  {
   "cell_type": "code",
   "execution_count": 162,
   "metadata": {},
   "outputs": [],
   "source": [
    "# Re-enconding non-numeric features\n",
    "data_final_cleaned = data_by_row_less\n",
    "\n",
    "data_final_cleaned['OST_WEST_KZ'].replace({'W':0,'O':1}, inplace=True)\n"
   ]
  },
  {
   "cell_type": "code",
   "execution_count": 163,
   "metadata": {},
   "outputs": [
    {
     "data": {
      "text/plain": [
       "(797077, 79)"
      ]
     },
     "execution_count": 163,
     "metadata": {},
     "output_type": "execute_result"
    }
   ],
   "source": [
    "data_final_cleaned.shape"
   ]
  },
  {
   "cell_type": "code",
   "execution_count": 164,
   "metadata": {},
   "outputs": [],
   "source": [
    "# Dropping multi-level features\n",
    "for feat in multi_level:\n",
    "    data_final_cleaned = data_final_cleaned.drop(feat, axis=\"columns\")"
   ]
  },
  {
   "cell_type": "markdown",
   "metadata": {},
   "source": [
    "#### Discussion 1.2.1: Re-Encode Categorical Features\n",
    "\n",
    "1. I replaced non-numeric binary features (\"OST_WEST_KZ\"), kept all other ones\n",
    "1. I dropped multi-level features\n"
   ]
  },
  {
   "cell_type": "markdown",
   "metadata": {},
   "source": [
    "#### Step 1.2.2: Engineer Mixed-Type Features\n",
    "\n",
    "There are a handful of features that are marked as \"mixed\" in the feature summary that require special treatment in order to be included in the analysis. There are two in particular that deserve attention; the handling of the rest are up to your own choices:\n",
    "- \"PRAEGENDE_JUGENDJAHRE\" combines information on three dimensions: generation by decade, movement (mainstream vs. avantgarde), and nation (east vs. west). While there aren't enough levels to disentangle east from west, you should create two new variables to capture the other two dimensions: an interval-type variable for decade, and a binary variable for movement.\n",
    "- \"CAMEO_INTL_2015\" combines information on two axes: wealth and life stage. Break up the two-digit codes by their 'tens'-place and 'ones'-place digits into two new ordinal variables (which, for the purposes of this project, is equivalent to just treating them as their raw numeric values).\n",
    "- If you decide to keep or engineer new features around the other mixed-type features, make sure you note your steps in the Discussion section.\n",
    "\n",
    "Be sure to check `Data_Dictionary.md` for the details needed to finish these tasks."
   ]
  },
  {
   "cell_type": "code",
   "execution_count": 165,
   "metadata": {},
   "outputs": [
    {
     "name": "stdout",
     "output_type": "stream",
     "text": [
      "['LP_LEBENSPHASE_FEIN', 'LP_LEBENSPHASE_GROB', 'WOHNLAGE', 'PLZ8_BAUMAX']\n"
     ]
    }
   ],
   "source": [
    "mixed = []\n",
    "ignore = [\"PRAEGENDE_JUGENDJAHRE\",\"CAMEO_INTL_2015\"]\n",
    "for feat in feat_info_dropped[feat_info_dropped.type == \"mixed\"].attribute:\n",
    "    if feat not in ignore:\n",
    "        mixed.append(feat)\n",
    "print(mixed)"
   ]
  },
  {
   "cell_type": "code",
   "execution_count": 166,
   "metadata": {},
   "outputs": [],
   "source": [
    "# initialise new variables\n",
    "data_final_cleaned[\"DECADE\"] = data_final_cleaned[\"PRAEGENDE_JUGENDJAHRE\"]\n",
    "data_final_cleaned[\"MOVEMENT\"] = data_final_cleaned[\"PRAEGENDE_JUGENDJAHRE\"]\n",
    "data_final_cleaned[\"WEALTH\"] = data_final_cleaned[\"CAMEO_INTL_2015\"]\n",
    "data_final_cleaned[\"LIFESTAGE\"] = data_final_cleaned[\"CAMEO_INTL_2015\"]"
   ]
  },
  {
   "cell_type": "markdown",
   "metadata": {},
   "source": [
    "#### Description PRAEGENDE_JUGENDJAHRE\n",
    "\n",
    "* 1: 40s - war years (Mainstream, E+W)\n",
    "* 2: 40s - reconstruction years (Avantgarde, E+W)\n",
    "* 3: 50s - economic miracle (Mainstream, E+W)\n",
    "* 4: 50s - milk bar / Individualisation (Avantgarde, E+W)\n",
    "* 5: 60s - economic miracle (Mainstream, E+W)\n",
    "* 6: 60s - generation 68 / student protestors (Avantgarde, W)\n",
    "* 7: 60s - opponents to the building of the Wall (Avantgarde, E)\n",
    "* 8: 70s - family orientation (Mainstream, E+W)\n",
    "* 9: 70s - peace movement (Avantgarde, E+W)\n",
    "* 10: 80s - Generation Golf (Mainstream, W)\n",
    "* 11: 80s - ecological awareness (Avantgarde, W)\n",
    "* 12: 80s - FDJ / communist party youth organisation (Mainstream, E)\n",
    "* 13: 80s - Swords into ploughshares (Avantgarde, E)\n",
    "* 14: 90s - digital media kids (Mainstream, E+W)\n",
    "* 15: 90s - ecological awareness (Avantgarde, E+W)"
   ]
  },
  {
   "cell_type": "code",
   "execution_count": 167,
   "metadata": {},
   "outputs": [],
   "source": [
    "# Investigate \"PRAEGENDE_JUGENDJAHRE\" and engineer two new variables.\n",
    "dec_dict = {1:1, 2:1, 3:2, 4:2, 5:3, 6:3, 7:3, 8:4, 9:4, 10:5, 11:5, 12:5, 13:5, 14:6, 15:6}\n",
    "type_dict = {1:1, 2:0, 3:1, 4:0, 5:1, 6:0, 7:0, 8:1, 9:0, 10:1, 11:0, 12:1, 13:0, 14:1, 15:0}\n",
    "data_final_cleaned[\"DECADE\"].replace(dec_dict, inplace=True)\n",
    "data_final_cleaned[\"MOVEMENT\"].replace(type_dict, inplace=True)"
   ]
  },
  {
   "cell_type": "markdown",
   "metadata": {},
   "source": [
    "#### Description CAMEO_INTL_2015\n",
    "\n",
    "* 11: Wealthy Households - Pre-Family Couples & Singles\n",
    "* 12: Wealthy Households - Young Couples With Children\n",
    "* 13: Wealthy Households - Families With School Age Children\n",
    "* 14: Wealthy Households - Older Families & Mature Couples\n",
    "* 15: Wealthy Households - Elders In Retirement\n",
    "* 21: Prosperous Households - Pre-Family Couples & Singles\n",
    "* 22: Prosperous Households - Young Couples With Children\n",
    "* 23: Prosperous Households - Families With School Age Children\n",
    "* 24: Prosperous Households - Older Families & Mature Couples\n",
    "* 25: Prosperous Households - Elders In Retirement\n",
    "* 31: Comfortable Households - Pre-Family Couples & Singles\n",
    "* 32: Comfortable Households - Young Couples With Children\n",
    "* 33: Comfortable Households - Families With School Age Children\n",
    "* 34: Comfortable Households - Older Families & Mature Couples\n",
    "* 35: Comfortable Households - Elders In Retirement\n",
    "* 41: Less Affluent Households - Pre-Family Couples & Singles\n",
    "* 42: Less Affluent Households - Young Couples With Children\n",
    "* 43: Less Affluent Households - Families With School Age Children\n",
    "* 44: Less Affluent Households - Older Families & Mature Couples\n",
    "* 45: Less Affluent Households - Elders In Retirement\n",
    "* 51: Poorer Households - Pre-Family Couples & Singles\n",
    "* 52: Poorer Households - Young Couples With Children\n",
    "* 53: Poorer Households - Families With School Age Children\n",
    "* 54: Poorer Households - Older Families & Mature Couples\n",
    "* 55: Poorer Households - Elders In Retirement"
   ]
  },
  {
   "cell_type": "code",
   "execution_count": 168,
   "metadata": {},
   "outputs": [
    {
     "name": "stdout",
     "output_type": "stream",
     "text": [
      "Wealth: {11: 1, 12: 1, 13: 1, 14: 1, 15: 1, 21: 2, 22: 2, 23: 2, 24: 2, 25: 2, 31: 3, 32: 3, 33: 3, 34: 3, 35: 3, 41: 4, 42: 4, 43: 4, 44: 4, 45: 4, 51: 5, 52: 5, 53: 5, 54: 5, 55: 5} \n",
      "\n",
      " Lifestage: {11: 1, 12: 2, 13: 3, 14: 4, 15: 5, 21: 1, 22: 2, 23: 3, 24: 4, 25: 5, 31: 1, 32: 2, 33: 3, 34: 4, 35: 5, 41: 1, 42: 2, 43: 3, 44: 4, 45: 5, 51: 1, 52: 2, 53: 3, 54: 4, 55: 5}\n"
     ]
    }
   ],
   "source": [
    "# Investigate \"CAMEO_INTL_2015\" and engineer two new variables.\n",
    "wealthmap = {}\n",
    "stagemap = {}\n",
    "for i in range(1,6):\n",
    "    for j in range(1,6):\n",
    "        st = str(i)+str(j)\n",
    "        wealthmap[int(st)]=i\n",
    "        stagemap[int(st)]=j\n",
    "\n",
    "print(\"Wealth:\",wealthmap, \"\\n\\n\",\"Lifestage:\",stagemap)"
   ]
  },
  {
   "cell_type": "code",
   "execution_count": 169,
   "metadata": {},
   "outputs": [],
   "source": [
    "data_final_cleaned[\"WEALTH\"].replace(wealthmap, inplace=True)\n",
    "data_final_cleaned[\"LIFESTAGE\"].replace(stagemap, inplace=True)"
   ]
  },
  {
   "cell_type": "code",
   "execution_count": 170,
   "metadata": {},
   "outputs": [],
   "source": [
    "for feat in mixed:\n",
    "    data_final_cleaned = data_final_cleaned.drop(feat, axis=\"columns\")"
   ]
  },
  {
   "cell_type": "markdown",
   "metadata": {},
   "source": [
    "#### Discussion 1.2.2: Engineer Mixed-Type Features\n",
    "\n",
    "* I re-enconded the mixed-type features using the description of the data\n",
    "* I dropped all other mixed-type features other than \"CAMEO_INTL_2015\" and \"PRAEGENDE_JUGENDJAHRE\""
   ]
  },
  {
   "cell_type": "markdown",
   "metadata": {},
   "source": [
    "#### Step 1.2.3: Complete Feature Selection\n",
    "\n",
    "In order to finish this step up, you need to make sure that your data frame now only has the columns that you want to keep. To summarize, the dataframe should consist of the following:\n",
    "- All numeric, interval, and ordinal type columns from the original dataset.\n",
    "- Binary categorical features (all numerically-encoded).\n",
    "- Engineered features from other multi-level categorical features and mixed features.\n",
    "\n",
    "Make sure that for any new columns that you have engineered, that you've excluded the original columns from the final dataset. Otherwise, their values will interfere with the analysis later on the project. For example, you should not keep \"PRAEGENDE_JUGENDJAHRE\", since its values won't be useful for the algorithm: only the values derived from it in the engineered features you created should be retained. As a reminder, your data should only be from **the subset with few or no missing values**."
   ]
  },
  {
   "cell_type": "code",
   "execution_count": 171,
   "metadata": {},
   "outputs": [],
   "source": [
    "# If there are other re-engineering tasks you need to perform, make sure you\n",
    "# take care of them here. (Dealing with missing data will come in step 2.1.)\n",
    "\n"
   ]
  },
  {
   "cell_type": "code",
   "execution_count": 172,
   "metadata": {},
   "outputs": [],
   "source": [
    "# Do whatever you need to in order to ensure that the dataframe only contains\n",
    "# the columns that should be passed to the algorithm functions.\n",
    "data_final_cleaned = data_final_cleaned.drop(\"CAMEO_INTL_2015\", axis=\"columns\")\n",
    "data_final_cleaned = data_final_cleaned.drop(\"PRAEGENDE_JUGENDJAHRE\", axis=\"columns\")\n"
   ]
  },
  {
   "cell_type": "code",
   "execution_count": 173,
   "metadata": {},
   "outputs": [
    {
     "data": {
      "text/html": [
       "<div>\n",
       "<style scoped>\n",
       "    .dataframe tbody tr th:only-of-type {\n",
       "        vertical-align: middle;\n",
       "    }\n",
       "\n",
       "    .dataframe tbody tr th {\n",
       "        vertical-align: top;\n",
       "    }\n",
       "\n",
       "    .dataframe thead th {\n",
       "        text-align: right;\n",
       "    }\n",
       "</style>\n",
       "<table border=\"1\" class=\"dataframe\">\n",
       "  <thead>\n",
       "    <tr style=\"text-align: right;\">\n",
       "      <th></th>\n",
       "      <th>ALTERSKATEGORIE_GROB</th>\n",
       "      <th>ANREDE_KZ</th>\n",
       "      <th>FINANZ_MINIMALIST</th>\n",
       "      <th>FINANZ_SPARER</th>\n",
       "      <th>FINANZ_VORSORGER</th>\n",
       "      <th>FINANZ_ANLEGER</th>\n",
       "      <th>FINANZ_UNAUFFAELLIGER</th>\n",
       "      <th>FINANZ_HAUSBAUER</th>\n",
       "      <th>GREEN_AVANTGARDE</th>\n",
       "      <th>HEALTH_TYP</th>\n",
       "      <th>...</th>\n",
       "      <th>PLZ8_ANTG4</th>\n",
       "      <th>PLZ8_HHZ</th>\n",
       "      <th>PLZ8_GBZ</th>\n",
       "      <th>ARBEIT</th>\n",
       "      <th>ORTSGR_KLS9</th>\n",
       "      <th>RELAT_AB</th>\n",
       "      <th>DECADE</th>\n",
       "      <th>MOVEMENT</th>\n",
       "      <th>WEALTH</th>\n",
       "      <th>LIFESTAGE</th>\n",
       "    </tr>\n",
       "  </thead>\n",
       "  <tbody>\n",
       "    <tr>\n",
       "      <th>0</th>\n",
       "      <td>1.0</td>\n",
       "      <td>2</td>\n",
       "      <td>1</td>\n",
       "      <td>5</td>\n",
       "      <td>2</td>\n",
       "      <td>5</td>\n",
       "      <td>4</td>\n",
       "      <td>5</td>\n",
       "      <td>0</td>\n",
       "      <td>3.0</td>\n",
       "      <td>...</td>\n",
       "      <td>1.0</td>\n",
       "      <td>5.0</td>\n",
       "      <td>4.0</td>\n",
       "      <td>3.0</td>\n",
       "      <td>5.0</td>\n",
       "      <td>4.0</td>\n",
       "      <td>6.0</td>\n",
       "      <td>1.0</td>\n",
       "      <td>51</td>\n",
       "      <td>51</td>\n",
       "    </tr>\n",
       "    <tr>\n",
       "      <th>1</th>\n",
       "      <td>3.0</td>\n",
       "      <td>2</td>\n",
       "      <td>1</td>\n",
       "      <td>4</td>\n",
       "      <td>1</td>\n",
       "      <td>2</td>\n",
       "      <td>3</td>\n",
       "      <td>5</td>\n",
       "      <td>1</td>\n",
       "      <td>3.0</td>\n",
       "      <td>...</td>\n",
       "      <td>0.0</td>\n",
       "      <td>4.0</td>\n",
       "      <td>4.0</td>\n",
       "      <td>3.0</td>\n",
       "      <td>5.0</td>\n",
       "      <td>2.0</td>\n",
       "      <td>6.0</td>\n",
       "      <td>0.0</td>\n",
       "      <td>24</td>\n",
       "      <td>24</td>\n",
       "    </tr>\n",
       "    <tr>\n",
       "      <th>2</th>\n",
       "      <td>4.0</td>\n",
       "      <td>2</td>\n",
       "      <td>4</td>\n",
       "      <td>2</td>\n",
       "      <td>5</td>\n",
       "      <td>2</td>\n",
       "      <td>1</td>\n",
       "      <td>2</td>\n",
       "      <td>0</td>\n",
       "      <td>2.0</td>\n",
       "      <td>...</td>\n",
       "      <td>0.0</td>\n",
       "      <td>3.0</td>\n",
       "      <td>4.0</td>\n",
       "      <td>2.0</td>\n",
       "      <td>3.0</td>\n",
       "      <td>3.0</td>\n",
       "      <td>4.0</td>\n",
       "      <td>1.0</td>\n",
       "      <td>12</td>\n",
       "      <td>12</td>\n",
       "    </tr>\n",
       "    <tr>\n",
       "      <th>3</th>\n",
       "      <td>3.0</td>\n",
       "      <td>1</td>\n",
       "      <td>4</td>\n",
       "      <td>3</td>\n",
       "      <td>4</td>\n",
       "      <td>1</td>\n",
       "      <td>3</td>\n",
       "      <td>2</td>\n",
       "      <td>0</td>\n",
       "      <td>3.0</td>\n",
       "      <td>...</td>\n",
       "      <td>1.0</td>\n",
       "      <td>3.0</td>\n",
       "      <td>3.0</td>\n",
       "      <td>4.0</td>\n",
       "      <td>6.0</td>\n",
       "      <td>5.0</td>\n",
       "      <td>4.0</td>\n",
       "      <td>1.0</td>\n",
       "      <td>43</td>\n",
       "      <td>43</td>\n",
       "    </tr>\n",
       "    <tr>\n",
       "      <th>4</th>\n",
       "      <td>1.0</td>\n",
       "      <td>2</td>\n",
       "      <td>3</td>\n",
       "      <td>1</td>\n",
       "      <td>5</td>\n",
       "      <td>2</td>\n",
       "      <td>2</td>\n",
       "      <td>5</td>\n",
       "      <td>0</td>\n",
       "      <td>3.0</td>\n",
       "      <td>...</td>\n",
       "      <td>1.0</td>\n",
       "      <td>5.0</td>\n",
       "      <td>5.0</td>\n",
       "      <td>2.0</td>\n",
       "      <td>3.0</td>\n",
       "      <td>3.0</td>\n",
       "      <td>2.0</td>\n",
       "      <td>1.0</td>\n",
       "      <td>54</td>\n",
       "      <td>54</td>\n",
       "    </tr>\n",
       "  </tbody>\n",
       "</table>\n",
       "<p>5 rows × 63 columns</p>\n",
       "</div>"
      ],
      "text/plain": [
       "   ALTERSKATEGORIE_GROB  ANREDE_KZ  FINANZ_MINIMALIST  FINANZ_SPARER  \\\n",
       "0                   1.0          2                  1              5   \n",
       "1                   3.0          2                  1              4   \n",
       "2                   4.0          2                  4              2   \n",
       "3                   3.0          1                  4              3   \n",
       "4                   1.0          2                  3              1   \n",
       "\n",
       "   FINANZ_VORSORGER  FINANZ_ANLEGER  FINANZ_UNAUFFAELLIGER  FINANZ_HAUSBAUER  \\\n",
       "0                 2               5                      4                 5   \n",
       "1                 1               2                      3                 5   \n",
       "2                 5               2                      1                 2   \n",
       "3                 4               1                      3                 2   \n",
       "4                 5               2                      2                 5   \n",
       "\n",
       "   GREEN_AVANTGARDE  HEALTH_TYP    ...      PLZ8_ANTG4  PLZ8_HHZ  PLZ8_GBZ  \\\n",
       "0                 0         3.0    ...             1.0       5.0       4.0   \n",
       "1                 1         3.0    ...             0.0       4.0       4.0   \n",
       "2                 0         2.0    ...             0.0       3.0       4.0   \n",
       "3                 0         3.0    ...             1.0       3.0       3.0   \n",
       "4                 0         3.0    ...             1.0       5.0       5.0   \n",
       "\n",
       "   ARBEIT  ORTSGR_KLS9  RELAT_AB  DECADE  MOVEMENT  WEALTH  LIFESTAGE  \n",
       "0     3.0          5.0       4.0     6.0       1.0      51         51  \n",
       "1     3.0          5.0       2.0     6.0       0.0      24         24  \n",
       "2     2.0          3.0       3.0     4.0       1.0      12         12  \n",
       "3     4.0          6.0       5.0     4.0       1.0      43         43  \n",
       "4     2.0          3.0       3.0     2.0       1.0      54         54  \n",
       "\n",
       "[5 rows x 63 columns]"
      ]
     },
     "execution_count": 173,
     "metadata": {},
     "output_type": "execute_result"
    }
   ],
   "source": [
    "data_final_cleaned.head()"
   ]
  },
  {
   "cell_type": "markdown",
   "metadata": {},
   "source": [
    "### Step 1.3: Create a Cleaning Function\n",
    "\n",
    "Even though you've finished cleaning up the general population demographics data, it's important to look ahead to the future and realize that you'll need to perform the same cleaning steps on the customer demographics data. In this substep, complete the function below to execute the main feature selection, encoding, and re-engineering steps you performed above. Then, when it comes to looking at the customer data in Step 3, you can just run this function on that DataFrame to get the trimmed dataset in a single step."
   ]
  },
  {
   "cell_type": "code",
   "execution_count": 174,
   "metadata": {},
   "outputs": [],
   "source": [
    "#FINAL cleaning function w/ data imputation\n",
    "def clean_data(df):\n",
    "    \"\"\"\n",
    "    Perform feature trimming, re-encoding, and engineering for demographics\n",
    "    data\n",
    "    \n",
    "    INPUT: Demographics DataFrame\n",
    "    OUTPUT: Trimmed and cleaned demographics DataFrame\n",
    "    \"\"\"\n",
    "    \n",
    "    # Put in code here to execute all main cleaning steps:\n",
    "    # convert missing value codes into NaNs, ...\n",
    "    import re\n",
    "    \n",
    "    org = df.copy()\n",
    "    \n",
    "    for i in range(feat_info.shape[0]):\n",
    "        missingVals = re.sub(\"[\\[|\\]]\", \"\", feat_info[\"missing_or_unknown\"][i]).split(\",\")\n",
    "        exclude = [\"X\",\"XX\"]\n",
    "        if missingVals != [\"\"]:\n",
    "            missingVals = [int(x) if x not in exclude else x for x in missingVals]\n",
    "            df = df.replace({feat_info.iloc[i][\"attribute\"]: missingVals}, np.nan)\n",
    "    print(\"NaN values after replacement of missing vals: \", df.isna().sum().sum())        \n",
    "    # remove selected columns and rows, ...\n",
    "        \n",
    "    \n",
    "    feat_info_dropped = feat_info.copy()    \n",
    "    df_dropped = df.copy()    \n",
    "    #drop all columns with more than 30% missing values\n",
    "    drop_columns = ['AGER_TYP', 'GEBURTSJAHR', 'TITEL_KZ', 'ALTER_HH', 'KK_KUNDENTYP', 'KBA05_BAUMAX']\n",
    "    \n",
    "    df_dropped.drop(drop_columns, axis=1, inplace=True)\n",
    "    \n",
    "    print(df_dropped.shape)\n",
    "    data_final = df_dropped[df_dropped.isnull().sum(axis=1) < 20].reset_index(drop=True)\n",
    "\n",
    "    # select, re-encode, and engineer column values.\n",
    "    \n",
    "    mixed = ['LP_LEBENSPHASE_FEIN', 'LP_LEBENSPHASE_GROB', 'WOHNLAGE', 'PLZ8_BAUMAX']\n",
    "    ignore = [\"PRAEGENDE_JUGENDJAHRE\",\"CAMEO_INTL_2015\"]\n",
    "    \n",
    "    for feat in mixed:\n",
    "        data_final.drop(feat, axis=\"columns\", inplace=True)        \n",
    "\n",
    "    multi_level = ['CJT_GESAMTTYP', 'FINANZTYP', 'GFK_URLAUBERTYP', 'LP_FAMILIE_FEIN', 'LP_FAMILIE_GROB', 'LP_STATUS_FEIN', 'LP_STATUS_GROB', 'NATIONALITAET_KZ', 'SHOPPER_TYP', 'VERS_TYP', 'ZABEOTYP', 'GEBAEUDETYP', 'CAMEO_DEUG_2015', 'CAMEO_DEU_2015']\n",
    "    for feat in multi_level:\n",
    "        data_final.drop(feat, axis=\"columns\", inplace=True)    \n",
    "      \n",
    "    data_final['OST_WEST_KZ'].replace({'W':0,'O':1}, inplace=True)\n",
    "    \n",
    "    data_final[\"DECADE\"] = data_final[\"PRAEGENDE_JUGENDJAHRE\"]\n",
    "    data_final[\"MOVEMENT\"] = data_final[\"PRAEGENDE_JUGENDJAHRE\"]\n",
    "    data_final[\"WEALTH\"] = data_final[\"CAMEO_INTL_2015\"]\n",
    "    data_final[\"LIFESTAGE\"] = data_final[\"CAMEO_INTL_2015\"]\n",
    "    data_final.drop(\"CAMEO_INTL_2015\", axis=\"columns\", inplace=True)\n",
    "    data_final.drop(\"PRAEGENDE_JUGENDJAHRE\", axis=\"columns\", inplace=True)\n",
    "    \n",
    "    dec_dict = {1:1, 2:1, 3:2, 4:2, 5:3, 6:3, 7:3, 8:4, 9:4, 10:5, 11:5, 12:5, 13:5, 14:6, 15:6}\n",
    "    type_dict = {1:1, 2:0, 3:1, 4:0, 5:1, 6:0, 7:0, 8:1, 9:0, 10:1, 11:0, 12:1, 13:0, 14:1, 15:0}\n",
    "    data_final[\"DECADE\"].replace(dec_dict, inplace=True)\n",
    "    data_final[\"MOVEMENT\"].replace(type_dict, inplace=True)\n",
    "    \n",
    "    wealth = {}\n",
    "    stage = {}\n",
    "    for i in range(1,6):\n",
    "        for j in range(1,6):\n",
    "            st = str(i)+str(j)\n",
    "            wealth[int(st)]=i\n",
    "            stage[int(st)]=j\n",
    "\n",
    "    data_final[\"WEALTH\"].replace(wealth, inplace=True)\n",
    "    data_final[\"LIFESTAGE\"].replace(stage, inplace=True)\n",
    "  \n",
    "    # Return the cleaned dataframe.\n",
    "    return data_final\n",
    "    "
   ]
  },
  {
   "cell_type": "code",
   "execution_count": 175,
   "metadata": {},
   "outputs": [
    {
     "name": "stdout",
     "output_type": "stream",
     "text": [
      "NaN values after replacement of missing vals:  8373929\n",
      "(891221, 79)\n",
      "(797077, 63) (797077, 63)\n",
      "If this is all you see, you passed the tests\n"
     ]
    }
   ],
   "source": [
    "#testing the \"clean_data\" function \n",
    "azdias_clean_data = clean_data(azdias)\n",
    "print(data_final_cleaned.shape,azdias_clean_data.shape)\n",
    "\n",
    "assert azdias_clean_data.shape[0] == data_final_cleaned.shape[0], \"clean_data function is not working properly, rows mismatch\"\n",
    "assert azdias_clean_data.shape[1] == data_final_cleaned.shape[1], \"clean_data function is not working properly, columns mismatch\"\n",
    "print(\"If this is all you see, you passed the tests\")"
   ]
  },
  {
   "cell_type": "code",
   "execution_count": 176,
   "metadata": {},
   "outputs": [],
   "source": [
    "#debugging\n",
    "comp = list(data_final_cleaned.columns)\n",
    "for x in list(azdias_clean_data.columns):\n",
    "    if x not in comp:\n",
    "        print(x)"
   ]
  },
  {
   "cell_type": "markdown",
   "metadata": {},
   "source": [
    "## Step 2: Feature Transformation\n",
    "\n",
    "### Step 2.1: Apply Feature Scaling\n",
    "\n",
    "Before we apply dimensionality reduction techniques to the data, we need to perform feature scaling so that the principal component vectors are not influenced by the natural differences in scale for features. Starting from this part of the project, you'll want to keep an eye on the [API reference page for sklearn](http://scikit-learn.org/stable/modules/classes.html) to help you navigate to all of the classes and functions that you'll need. In this substep, you'll need to check the following:\n",
    "\n",
    "- sklearn requires that data not have missing values in order for its estimators to work properly. So, before applying the scaler to your data, make sure that you've cleaned the DataFrame of the remaining missing values. This can be as simple as just removing all data points with missing data, or applying an [Imputer](https://scikit-learn.org/0.16/modules/generated/sklearn.preprocessing.Imputer.html) to replace all missing values. You might also try a more complicated procedure where you temporarily remove missing values in order to compute the scaling parameters before re-introducing those missing values and applying imputation. Think about how much missing data you have and what possible effects each approach might have on your analysis, and justify your decision in the discussion section below.\n",
    "- For the actual scaling function, a [StandardScaler](http://scikit-learn.org/stable/modules/generated/sklearn.preprocessing.StandardScaler.html) instance is suggested, scaling each feature to mean 0 and standard deviation 1.\n",
    "- For these classes, you can make use of the `.fit_transform()` method to both fit a procedure to the data as well as apply the transformation to the data at the same time. Don't forget to keep the fit sklearn objects handy, since you'll be applying them to the customer demographics data towards the end of the project."
   ]
  },
  {
   "cell_type": "code",
   "execution_count": 197,
   "metadata": {},
   "outputs": [],
   "source": [
    "# If you've not yet cleaned the dataset of all NaN values, then investigate and\n",
    "# do that now.\n",
    "from sklearn.preprocessing import Imputer\n",
    "\n",
    "imputer = Imputer()\n",
    "data_final_imputed = imputer.fit_transform(data_final_cleaned)"
   ]
  },
  {
   "cell_type": "code",
   "execution_count": 199,
   "metadata": {},
   "outputs": [],
   "source": [
    "# Apply feature scaling to the general population demographics data.\n",
    "from sklearn.preprocessing import StandardScaler\n",
    "scaler = StandardScaler()\n",
    "data_final_scaled = scaler.fit_transform(data_final_imputed)"
   ]
  },
  {
   "cell_type": "markdown",
   "metadata": {},
   "source": [
    "### Discussion 2.1: Apply Feature Scaling\n",
    "\n",
    "All features were scaled using sklearn's StandardScaler. Before that, I replaced all missing values with the column's most frequent value, using sklearn's Imputer."
   ]
  },
  {
   "cell_type": "markdown",
   "metadata": {},
   "source": [
    "### Step 2.2: Perform Dimensionality Reduction\n",
    "\n",
    "On your scaled data, you are now ready to apply dimensionality reduction techniques.\n",
    "\n",
    "- Use sklearn's [PCA](http://scikit-learn.org/stable/modules/generated/sklearn.decomposition.PCA.html) class to apply principal component analysis on the data, thus finding the vectors of maximal variance in the data. To start, you should not set any parameters (so all components are computed) or set a number of components that is at least half the number of features (so there's enough features to see the general trend in variability).\n",
    "- Check out the ratio of variance explained by each principal component as well as the cumulative variance explained. Try plotting the cumulative or sequential values using matplotlib's [`plot()`](https://matplotlib.org/api/_as_gen/matplotlib.pyplot.plot.html) function. Based on what you find, select a value for the number of transformed features you'll retain for the clustering part of the project.\n",
    "- Once you've made a choice for the number of components to keep, make sure you re-fit a PCA instance to perform the decided-on transformation."
   ]
  },
  {
   "cell_type": "code",
   "execution_count": 200,
   "metadata": {},
   "outputs": [
    {
     "data": {
      "text/plain": [
       "PCA(copy=True, iterated_power='auto', n_components=None, random_state=None,\n",
       "  svd_solver='auto', tol=0.0, whiten=False)"
      ]
     },
     "execution_count": 200,
     "metadata": {},
     "output_type": "execute_result"
    }
   ],
   "source": [
    "# Apply PCA to the data.\n",
    "from sklearn.decomposition import PCA\n",
    "pca_test = PCA()\n",
    "pca_test.fit(data_final_scaled)"
   ]
  },
  {
   "cell_type": "code",
   "execution_count": 201,
   "metadata": {},
   "outputs": [
    {
     "data": {
      "image/png": "[encoded data removed]",
      "text/plain": [
       "<matplotlib.figure.Figure at 0x7f178d5dc6a0>"
      ]
     },
     "metadata": {
      "needs_background": "light"
     },
     "output_type": "display_data"
    }
   ],
   "source": [
    "# Investigate the variance accounted for by each principal component.\n",
    "plt.plot(range(pca_test.explained_variance_ratio_.shape[0]), np.cumsum(pca_test.explained_variance_ratio_))\n",
    "\n",
    "plt.title(\"Variance for each principal component\") \n",
    "plt.show()"
   ]
  },
  {
   "cell_type": "code",
   "execution_count": 274,
   "metadata": {},
   "outputs": [
    {
     "name": "stdout",
     "output_type": "stream",
     "text": [
      "(797077, 30)\n"
     ]
    }
   ],
   "source": [
    "# Re-apply PCA to the data while selecting for number of components to retain.\n",
    "pca = PCA(n_components = 30)\n",
    "data_final_pca = pca.fit_transform(data_final_scaled)\n",
    "print(data_final_pca.shape)"
   ]
  },
  {
   "cell_type": "markdown",
   "metadata": {},
   "source": [
    "### Discussion 2.2: Perform Dimensionality Reduction\n",
    "\n",
    "I've decided to keep 30 components, as these already describe around 90% of the data."
   ]
  },
  {
   "cell_type": "markdown",
   "metadata": {},
   "source": [
    "### Step 2.3: Interpret Principal Components\n",
    "\n",
    "Now that we have our transformed principal components, it's a nice idea to check out the weight of each variable on the first few components to see if they can be interpreted in some fashion.\n",
    "\n",
    "As a reminder, each principal component is a unit vector that points in the direction of highest variance (after accounting for the variance captured by earlier principal components). The further a weight is from zero, the more the principal component is in the direction of the corresponding feature. If two features have large weights of the same sign (both positive or both negative), then increases in one tend expect to be associated with increases in the other. To contrast, features with different signs can be expected to show a negative correlation: increases in one variable should result in a decrease in the other.\n",
    "\n",
    "- To investigate the features, you should map each weight to their corresponding feature name, then sort the features according to weight. The most interesting features for each principal component, then, will be those at the beginning and end of the sorted list. Use the data dictionary document to help you understand these most prominent features, their relationships, and what a positive or negative value on the principal component might indicate.\n",
    "- You should investigate and interpret feature associations from the first three principal components in this substep. To help facilitate this, you should write a function that you can call at any time to print the sorted list of feature weights, for the *i*-th principal component. This might come in handy in the next step of the project, when you interpret the tendencies of the discovered clusters."
   ]
  },
  {
   "cell_type": "code",
   "execution_count": 275,
   "metadata": {},
   "outputs": [
    {
     "name": "stdout",
     "output_type": "stream",
     "text": [
      "----------- Principal component: 0 -----------\n",
      "             Weights\n",
      "Feature             \n",
      "PLZ8_ANTG3  0.228568\n",
      "PLZ8_ANTG4  0.220855\n",
      "LIFESTAGE   0.214329\n",
      "              Weights\n",
      "Feature              \n",
      "KBA05_ANTG1 -0.227743\n",
      "PLZ8_ANTG1  -0.228525\n",
      "MOBI_REGIO  -0.244232\n",
      "----------- Principal component: 1 -----------\n",
      "                       Weights\n",
      "Feature                       \n",
      "ALTERSKATEGORIE_GROB  0.269593\n",
      "FINANZ_VORSORGER      0.241830\n",
      "SEMIO_ERL             0.235148\n",
      "                Weights\n",
      "Feature                \n",
      "FINANZ_SPARER -0.247434\n",
      "DECADE        -0.259295\n",
      "SEMIO_REL     -0.262105\n",
      "----------- Principal component: 2 -----------\n",
      "             Weights\n",
      "Feature             \n",
      "SEMIO_VERT  0.346073\n",
      "SEMIO_SOZ   0.262478\n",
      "SEMIO_FAM   0.250547\n",
      "             Weights\n",
      "Feature             \n",
      "SEMIO_DOM  -0.315331\n",
      "SEMIO_KAEM -0.338369\n",
      "ANREDE_KZ  -0.369157\n"
     ]
    }
   ],
   "source": [
    "# Map weights for the first principal component to corresponding feature names\n",
    "# and then print the linked values, sorted by weight.\n",
    "# HINT: Try defining a function here or in a new cell that you can reuse in the\n",
    "# other cells.\n",
    "def mapWeights(dx,pca,df):\n",
    "    feats =list(df.columns)\n",
    "    weights = list(pca.components_[dx])\n",
    "    df = pd.DataFrame(list(zip(feats, weights)))\n",
    "    df.set_axis(['Feature', 'Weights'], axis=1, inplace=True)\n",
    "    df = df.sort_values(by=['Weights'] , ascending=False)\n",
    "    df.set_index('Feature', inplace=True)\n",
    "    return df\n",
    "\n",
    "for i in range(3):\n",
    "    print(\"----------- Principal component: \"+str(i)+\" -----------\")\n",
    "    print(mapWeights(i,pca,data_final_cleaned).head(3))\n",
    "    print(mapWeights(i,pca,data_final_cleaned).tail(3))"
   ]
  },
  {
   "cell_type": "markdown",
   "metadata": {},
   "source": [
    "### Discussion 2.3: Interpret Principal Components\n",
    "\n",
    "- First component: \n",
    "    * KBA13_ANZAHL_PKW clearly has the highest correlation (Number of cars in the PLZ8 region), the strongest negative-correlation have WEALTH and LIFESTAGE\n",
    "- Second component: \n",
    "    * WEALTH, LIFESTAGE and ANZ_HAUSHALTE_AKTIV (Number of households in the building) have the strongest correlation. \n",
    "- Third component: \n",
    "    * WEALTH and LIFESTAGE have a strong negative correlation, KBA05_ANTG4 (Number of 10+ family houses in the microcell) and ORTSGR_KLS9 (Size of community) have a strong positve correlation"
   ]
  },
  {
   "cell_type": "markdown",
   "metadata": {},
   "source": [
    "## Step 3: Clustering\n",
    "\n",
    "### Step 3.1: Apply Clustering to General Population\n",
    "\n",
    "You've assessed and cleaned the demographics data, then scaled and transformed them. Now, it's time to see how the data clusters in the principal components space. In this substep, you will apply k-means clustering to the dataset and use the average within-cluster distances from each point to their assigned cluster's centroid to decide on a number of clusters to keep.\n",
    "\n",
    "- Use sklearn's [KMeans](http://scikit-learn.org/stable/modules/generated/sklearn.cluster.KMeans.html#sklearn.cluster.KMeans) class to perform k-means clustering on the PCA-transformed data.\n",
    "- Then, compute the average difference from each point to its assigned cluster's center. **Hint**: The KMeans object's `.score()` method might be useful here, but note that in sklearn, scores tend to be defined so that larger is better. Try applying it to a small, toy dataset, or use an internet search to help your understanding.\n",
    "- Perform the above two steps for a number of different cluster counts. You can then see how the average distance decreases with an increasing number of clusters. However, each additional cluster provides a smaller net benefit. Use this fact to select a final number of clusters in which to group the data. **Warning**: because of the large size of the dataset, it can take a long time for the algorithm to resolve. The more clusters to fit, the longer the algorithm will take. You should test for cluster counts through at least 10 clusters to get the full picture, but you shouldn't need to test for a number of clusters above about 30.\n",
    "- Once you've selected a final number of clusters to use, re-fit a KMeans instance to perform the clustering operation. Make sure that you also obtain the cluster assignments for the general demographics data, since you'll be using them in the final Step 3.3."
   ]
  },
  {
   "cell_type": "code",
   "execution_count": 276,
   "metadata": {},
   "outputs": [],
   "source": [
    "# Over a number of different cluster counts...\n",
    "from sklearn.cluster import KMeans\n",
    "\n",
    "scores = []\n",
    "\n",
    "\"\"\"for i in range(1,21,1):\n",
    "    \n",
    "    kmeans = KMeans(n_clusters = i)\n",
    "    model = kmeans.fit(data_final_pca)\n",
    "    score = abs(kmeans.score(data_final_pca))\n",
    "    print(\"Score = \"+str(score)+\" for \"+str(i)+\" Cluster(s)\")\n",
    "    scores.append(score)\n",
    "\n",
    "    # run k-means clustering on the data and...\n",
    "print(scores)\"\"\"\n",
    "\n",
    "scores = [98603197188.047424, 34429960903.251427, 17429341722.999039, 10529297900.893448, 7342103579.0542135, 5720395155.6150455, 4217516886.6568999, 3356456498.1421647, 2813292239.4560413, 2454829583.5592012, 2091290924.8319247, 1851233187.2587018, 1665964098.818665, 1525942875.9875016, 1413178758.6387422, 1312084165.3087838, 1226846819.0887821, 1157121198.8059382, 1114741724.8422899, 1055603902.5450536]\n",
    "#scores were pre-calculated to save computing time when debugging other parts of the project\n"
   ]
  },
  {
   "cell_type": "code",
   "execution_count": 277,
   "metadata": {},
   "outputs": [
    {
     "name": "stdout",
     "output_type": "stream",
     "text": [
      "20\n"
     ]
    },
    {
     "data": {
      "text/plain": [
       "Text(0,0.5,'Kmeans score')"
      ]
     },
     "execution_count": 277,
     "metadata": {},
     "output_type": "execute_result"
    },
    {
     "data": {
      "image/png": "[encoded data removed]",
      "text/plain": [
       "<matplotlib.figure.Figure at 0x7f179faa7b00>"
      ]
     },
     "metadata": {
      "needs_background": "light"
     },
     "output_type": "display_data"
    }
   ],
   "source": [
    "# Investigate the change in within-cluster distance across number of clusters.\n",
    "# HINT: Use matplotlib's plot function to visualize this relationship.\n",
    "print(len(scores))\n",
    "plt.plot(list(range(1,21,1)), scores[:], marker = 'o');\n",
    "plt.xlabel('Cluster count')\n",
    "plt.ylabel('Kmeans score')\n"
   ]
  },
  {
   "cell_type": "code",
   "execution_count": 278,
   "metadata": {},
   "outputs": [
    {
     "data": {
      "image/png": "[encoded data removed]",
      "text/plain": [
       "<matplotlib.figure.Figure at 0x7f17a104b550>"
      ]
     },
     "metadata": {
      "needs_background": "light"
     },
     "output_type": "display_data"
    }
   ],
   "source": [
    "fig = plt.figure(figsize=(12, 6))\n",
    "ax = fig.add_subplot(221)   #top left\n",
    "ax2 = fig.add_subplot(222)   #top right\n",
    "ax.plot(list(range(1,16,1)), scores[:15], marker = 'o')\n",
    "ax2.plot(list(range(5,16,1)), scores[4:15], marker = 'o')\n",
    "plt.show()"
   ]
  },
  {
   "cell_type": "code",
   "execution_count": 279,
   "metadata": {},
   "outputs": [],
   "source": [
    "# Re-fit the k-means model with the selected number of clusters and obtain\n",
    "# cluster predictions for the general population demographics data.\n",
    "kmeans = KMeans(n_clusters = 10)\n",
    "predections_azdias_data = kmeans.fit_predict(data_final_pca)"
   ]
  },
  {
   "cell_type": "markdown",
   "metadata": {},
   "source": [
    "### Discussion 3.1: Apply Clustering to General Population\n",
    "\n",
    "I've decided to go with 10 clusters. From the plot above, we can see a small elbow forming at this cluster count."
   ]
  },
  {
   "cell_type": "markdown",
   "metadata": {},
   "source": [
    "### Step 3.2: Apply All Steps to the Customer Data\n",
    "\n",
    "Now that you have clusters and cluster centers for the general population, it's time to see how the customer data maps on to those clusters. Take care to not confuse this for re-fitting all of the models to the customer data. Instead, you're going to use the fits from the general population to clean, transform, and cluster the customer data. In the last step of the project, you will interpret how the general population fits apply to the customer data.\n",
    "\n",
    "- Don't forget when loading in the customers data, that it is semicolon (`;`) delimited.\n",
    "- Apply the same feature wrangling, selection, and engineering steps to the customer demographics using the `clean_data()` function you created earlier. (You can assume that the customer demographics data has similar meaning behind missing data patterns as the general demographics data.)\n",
    "- Use the sklearn objects from the general demographics data, and apply their transformations to the customers data. That is, you should not be using a `.fit()` or `.fit_transform()` method to re-fit the old objects, nor should you be creating new sklearn objects! Carry the data through the feature scaling, PCA, and clustering steps, obtaining cluster assignments for all of the data in the customer demographics data."
   ]
  },
  {
   "cell_type": "code",
   "execution_count": 266,
   "metadata": {},
   "outputs": [],
   "source": [
    "# Load in the customer demographics data.\n",
    "customers = pd.read_csv('Udacity_CUSTOMERS_Subset.csv', delimiter = ';')"
   ]
  },
  {
   "cell_type": "code",
   "execution_count": 267,
   "metadata": {},
   "outputs": [
    {
     "name": "stdout",
     "output_type": "stream",
     "text": [
      "NaN values after replacement of missing vals:  3112918\n",
      "(191652, 79)\n"
     ]
    }
   ],
   "source": [
    "# Apply preprocessing, feature transformation, and clustering from the general\n",
    "# demographics onto the customer data, obtaining cluster predictions for the\n",
    "# customer demographics data.\n",
    "data_customers_cleaned = clean_data(customers)  "
   ]
  },
  {
   "cell_type": "code",
   "execution_count": 268,
   "metadata": {},
   "outputs": [
    {
     "name": "stdout",
     "output_type": "stream",
     "text": [
      "Customer Data shape:  (141590, 63)\n",
      "General Population Data shape:  (797077, 63)\n",
      "NaN values after imputing NaNs:  0\n"
     ]
    }
   ],
   "source": [
    "#Imputing\n",
    "data_customers = pd.DataFrame(imputer.fit_transform(data_customers_cleaned), columns = data_customers_cleaned.columns)\n",
    "print(\"Customer Data shape: \",data_customers_cleaned.shape)\n",
    "print(\"General Population Data shape: \",data_final_cleaned.shape)\n",
    "print(\"NaN values after imputing NaNs: \", data_customers.isna().sum().sum())"
   ]
  },
  {
   "cell_type": "code",
   "execution_count": 269,
   "metadata": {},
   "outputs": [],
   "source": [
    "#feature scaling\n",
    "data_customers = scaler.transform(data_customers_imputed)"
   ]
  },
  {
   "cell_type": "code",
   "execution_count": 280,
   "metadata": {},
   "outputs": [],
   "source": [
    "#PCA and kmeans modeling\n",
    "data_customers_pca = pca.transform(data_customers_scaled)\n",
    "customers_pred = kmeans.predict(data_customers_pca)"
   ]
  },
  {
   "cell_type": "markdown",
   "metadata": {},
   "source": [
    "### Step 3.3: Compare Customer Data to Demographics Data\n",
    "\n",
    "At this point, you have clustered data based on demographics of the general population of Germany, and seen how the customer data for a mail-order sales company maps onto those demographic clusters. In this final substep, you will compare the two cluster distributions to see where the strongest customer base for the company is.\n",
    "\n",
    "Consider the proportion of persons in each cluster for the general population, and the proportions for the customers. If we think the company's customer base to be universal, then the cluster assignment proportions should be fairly similar between the two. If there are only particular segments of the population that are interested in the company's products, then we should see a mismatch from one to the other. If there is a higher proportion of persons in a cluster for the customer data compared to the general population (e.g. 5% of persons are assigned to a cluster for the general population, but 15% of the customer data is closest to that cluster's centroid) then that suggests the people in that cluster to be a target audience for the company. On the other hand, the proportion of the data in a cluster being larger in the general population than the customer data (e.g. only 2% of customers closest to a population centroid that captures 6% of the data) suggests that group of persons to be outside of the target demographics.\n",
    "\n",
    "Take a look at the following points in this step:\n",
    "\n",
    "- Compute the proportion of data points in each cluster for the general population and the customer data. Visualizations will be useful here: both for the individual dataset proportions, but also to visualize the ratios in cluster representation between groups. Seaborn's [`countplot()`](https://seaborn.pydata.org/generated/seaborn.countplot.html) or [`barplot()`](https://seaborn.pydata.org/generated/seaborn.barplot.html) function could be handy.\n",
    "  - Recall the analysis you performed in step 1.1.3 of the project, where you separated out certain data points from the dataset if they had more than a specified threshold of missing values. If you found that this group was qualitatively different from the main bulk of the data, you should treat this as an additional data cluster in this analysis. Make sure that you account for the number of data points in this subset, for both the general population and customer datasets, when making your computations!\n",
    "- Which cluster or clusters are overrepresented in the customer dataset compared to the general population? Select at least one such cluster and infer what kind of people might be represented by that cluster. Use the principal component interpretations from step 2.3 or look at additional components to help you make this inference. Alternatively, you can use the `.inverse_transform()` method of the PCA and StandardScaler objects to transform centroids back to the original data space and interpret the retrieved values directly.\n",
    "- Perform a similar investigation for the underrepresented clusters. Which cluster or clusters are underrepresented in the customer dataset compared to the general population, and what kinds of people are typified by these clusters?"
   ]
  },
  {
   "cell_type": "code",
   "execution_count": 281,
   "metadata": {},
   "outputs": [
    {
     "data": {
      "text/plain": [
       "Text(0.5,1,'Demographic Data')"
      ]
     },
     "execution_count": 281,
     "metadata": {},
     "output_type": "execute_result"
    },
    {
     "data": {
      "image/png": "[encoded data removed]",
      "text/plain": [
       "<matplotlib.figure.Figure at 0x7f178d5dc080>"
      ]
     },
     "metadata": {
      "needs_background": "light"
     },
     "output_type": "display_data"
    }
   ],
   "source": [
    "# Compare the proportion of data in each cluster for the customer data to the\n",
    "# proportion of data in each cluster for the general population.\n",
    "figure, axs = plt.subplots(nrows=1, ncols=2, figsize = (10,5))\n",
    "figure.subplots_adjust(hspace = 1, wspace=.3)\n",
    "\n",
    "sns.countplot(customers_pred, ax=axs[0])\n",
    "sns.countplot(predections_azdias_data, ax=axs[1])\n",
    "axs[0].set_title('Customers Data')\n",
    "axs[1].set_title('Demographic Data')"
   ]
  },
  {
   "cell_type": "code",
   "execution_count": 302,
   "metadata": {},
   "outputs": [
    {
     "data": {
      "text/plain": [
       "ALTERSKATEGORIE_GROB        3.30\n",
       "ANREDE_KZ                   1.06\n",
       "FINANZ_MINIMALIST           4.82\n",
       "FINANZ_SPARER               1.65\n",
       "FINANZ_VORSORGER            4.17\n",
       "FINANZ_ANLEGER              1.53\n",
       "FINANZ_UNAUFFAELLIGER       2.18\n",
       "FINANZ_HAUSBAUER            1.90\n",
       "GREEN_AVANTGARDE            0.99\n",
       "HEALTH_TYP                  2.08\n",
       "RETOURTYP_BK_S              3.96\n",
       "SEMIO_SOZ                   4.85\n",
       "SEMIO_FAM                   4.82\n",
       "SEMIO_REL                   3.74\n",
       "SEMIO_MAT                   3.93\n",
       "SEMIO_VERT                  6.23\n",
       "SEMIO_LUST                  5.22\n",
       "SEMIO_ERL                   4.11\n",
       "SEMIO_KULT                  4.89\n",
       "SEMIO_RAT                   2.70\n",
       "SEMIO_KRIT                  3.10\n",
       "SEMIO_DOM                   3.33\n",
       "SEMIO_KAEM                  2.65\n",
       "SEMIO_PFLICHT               3.22\n",
       "SEMIO_TRADV                 3.13\n",
       "SOHO_KZ                     0.01\n",
       "ANZ_PERSONEN                2.22\n",
       "ANZ_TITEL                   0.01\n",
       "HH_EINKOMMEN_SCORE          2.43\n",
       "W_KEIT_KIND_HH              4.10\n",
       "                          ...   \n",
       "KONSUMNAEHE                 3.36\n",
       "MIN_GEBAEUDEJAHR         1993.03\n",
       "OST_WEST_KZ                 0.10\n",
       "KBA05_ANTG1                 2.68\n",
       "KBA05_ANTG2                 1.13\n",
       "KBA05_ANTG3                 0.10\n",
       "KBA05_ANTG4                 0.02\n",
       "KBA05_GBZ                   4.05\n",
       "BALLRAUM                    4.02\n",
       "EWDICHTE                    3.94\n",
       "INNENSTADT                  4.59\n",
       "GEBAEUDETYP_RASTER          3.94\n",
       "KKK                         2.18\n",
       "MOBI_REGIO                  4.09\n",
       "ONLINE_AFFINITAET           3.12\n",
       "REGIOTYP                    3.51\n",
       "KBA13_ANZAHL_PKW          688.20\n",
       "PLZ8_ANTG1                  2.76\n",
       "PLZ8_ANTG2                  2.60\n",
       "PLZ8_ANTG3                  1.19\n",
       "PLZ8_ANTG4                  0.38\n",
       "PLZ8_HHZ                    3.69\n",
       "PLZ8_GBZ                    3.89\n",
       "ARBEIT                      3.02\n",
       "ORTSGR_KLS9                 5.34\n",
       "RELAT_AB                    2.91\n",
       "DECADE                      3.64\n",
       "MOVEMENT                    0.01\n",
       "WEALTH                     24.54\n",
       "LIFESTAGE                  24.54\n",
       "Length: 63, dtype: float64"
      ]
     },
     "execution_count": 302,
     "metadata": {},
     "output_type": "execute_result"
    }
   ],
   "source": [
    "# What kinds of people are part of a cluster that is overrepresented in the\n",
    "# customer data compared to the general population?\n",
    "cluster = kmeans.cluster_centers_[5]\n",
    "cluster = pd.Series(cluster)\n",
    "cluster.index = cluster.index +1\n",
    "cluster.sort_values(ascending=False)\n",
    "cluster_features = scaler.inverse_transform(pca.inverse_transform(cluster))\n",
    "cluster_features = pd.Series(cluster_features).round(2)\n",
    "cluster_features.index = list(data_final_cleaned)\n",
    "cluster_features"
   ]
  },
  {
   "cell_type": "code",
   "execution_count": 303,
   "metadata": {},
   "outputs": [
    {
     "data": {
      "text/plain": [
       "ALTERSKATEGORIE_GROB        1.90\n",
       "ANREDE_KZ                   0.97\n",
       "FINANZ_MINIMALIST           1.91\n",
       "FINANZ_SPARER               4.34\n",
       "FINANZ_VORSORGER            2.12\n",
       "FINANZ_ANLEGER              3.54\n",
       "FINANZ_UNAUFFAELLIGER       3.76\n",
       "FINANZ_HAUSBAUER            3.60\n",
       "GREEN_AVANTGARDE            0.12\n",
       "HEALTH_TYP                  2.37\n",
       "RETOURTYP_BK_S              2.85\n",
       "SEMIO_SOZ                   6.57\n",
       "SEMIO_FAM                   6.66\n",
       "SEMIO_REL                   6.18\n",
       "SEMIO_MAT                   5.04\n",
       "SEMIO_VERT                  5.99\n",
       "SEMIO_LUST                  3.11\n",
       "SEMIO_ERL                   2.31\n",
       "SEMIO_KULT                  6.75\n",
       "SEMIO_RAT                   4.03\n",
       "SEMIO_KRIT                  2.91\n",
       "SEMIO_DOM                   2.92\n",
       "SEMIO_KAEM                  2.50\n",
       "SEMIO_PFLICHT               5.52\n",
       "SEMIO_TRADV                 4.73\n",
       "SOHO_KZ                     0.01\n",
       "ANZ_PERSONEN                1.43\n",
       "ANZ_TITEL                   0.00\n",
       "HH_EINKOMMEN_SCORE          5.49\n",
       "W_KEIT_KIND_HH              4.41\n",
       "                          ...   \n",
       "KONSUMNAEHE                 2.09\n",
       "MIN_GEBAEUDEJAHR         1992.59\n",
       "OST_WEST_KZ                 0.30\n",
       "KBA05_ANTG1                 0.38\n",
       "KBA05_ANTG2                 1.28\n",
       "KBA05_ANTG3                 1.13\n",
       "KBA05_ANTG4                 0.64\n",
       "KBA05_GBZ                   2.15\n",
       "BALLRAUM                    3.19\n",
       "EWDICHTE                    5.13\n",
       "INNENSTADT                  3.34\n",
       "GEBAEUDETYP_RASTER          3.34\n",
       "KKK                         2.88\n",
       "MOBI_REGIO                  1.73\n",
       "ONLINE_AFFINITAET           2.97\n",
       "REGIOTYP                    4.92\n",
       "KBA13_ANZAHL_PKW          518.74\n",
       "PLZ8_ANTG1                  1.46\n",
       "PLZ8_ANTG2                  3.27\n",
       "PLZ8_ANTG3                  2.40\n",
       "PLZ8_ANTG4                  1.30\n",
       "PLZ8_HHZ                    3.76\n",
       "PLZ8_GBZ                    2.69\n",
       "ARBEIT                      3.68\n",
       "ORTSGR_KLS9                 6.94\n",
       "RELAT_AB                    3.72\n",
       "DECADE                      5.65\n",
       "MOVEMENT                    0.87\n",
       "WEALTH                     46.38\n",
       "LIFESTAGE                  46.38\n",
       "Length: 63, dtype: float64"
      ]
     },
     "execution_count": 303,
     "metadata": {},
     "output_type": "execute_result"
    }
   ],
   "source": [
    "# What kinds of people are part of a cluster that is underrepresented in the\n",
    "# customer data compared to the general population?\n",
    "cluster = kmeans.cluster_centers_[7]\n",
    "cluster = pd.Series(cluster)\n",
    "cluster.index = cluster.index +1\n",
    "cluster.sort_values(ascending=False)\n",
    "cluster_features = scaler.inverse_transform(pca.inverse_transform(cluster))\n",
    "cluster_features = pd.Series(cluster_features).round(2)\n",
    "cluster_features.index = list(data_final_cleaned)\n",
    "cluster_features"
   ]
  },
  {
   "cell_type": "markdown",
   "metadata": {},
   "source": [
    "### Discussion 3.3: Compare Customer Data to Demographics Data\n",
    "\n",
    "* **Cluster 5** is **overrepresented** in the customer data. We can describe the customer population via the attributes with the highest correlation: \n",
    "\n",
    "    - ALTERSKATEGORIE_GROB = 3.30 -> 46 - 60 years old persons (3)\n",
    "    - REGIOTYP = 3.51 -> upper middle class (3) - middle class (4)\n",
    "    - FINANZ_MINIMALIST = 4.82 -> very low financial interest (5)\n",
    "\n",
    "\n",
    "* **Cluster 7** is **underrepresented** in the customer data. We can describe this part of the population via the attributes with the highest correlation: \n",
    "\n",
    "    - ALTERSKATEGORIE_GROB = 1.90 -> 30 - 45 years old persons (2)\n",
    "    - REGIOTYP = 4.92 -> lower middle class (5)\n",
    "    - FINANZ_MINIMALIST = 1.91 -> high financial interest (2)"
   ]
  },
  {
   "cell_type": "markdown",
   "metadata": {},
   "source": [
    "> Congratulations on making it this far in the project! Before you finish, make sure to check through the entire notebook from top to bottom to make sure that your analysis follows a logical flow and all of your findings are documented in **Discussion** cells. Once you've checked over all of your work, you should export the notebook as an HTML document to submit for evaluation. You can do this from the menu, navigating to **File -> Download as -> HTML (.html)**. You will submit both that document and this notebook for your project submission."
   ]
  },
  {
   "cell_type": "code",
   "execution_count": null,
   "metadata": {},
   "outputs": [],
   "source": []
  }
 ],
 "metadata": {
  "kernelspec": {
   "display_name": "Python 3",
   "language": "python",
   "name": "python3"
  },
  "language_info": {
   "codemirror_mode": {
    "name": "ipython",
    "version": 3
   },
   "file_extension": ".py",
   "mimetype": "text/x-python",
   "name": "python",
   "nbconvert_exporter": "python",
   "pygments_lexer": "ipython3",
   "version": "3.6.3"
  }
 },
 "nbformat": 4,
 "nbformat_minor": 2
}
